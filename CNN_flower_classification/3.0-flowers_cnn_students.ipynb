{
 "cells": [
  {
   "cell_type": "markdown",
   "metadata": {
    "id": "KzZGP3Yl8e2Z"
   },
   "source": [
    "# Programming Assignment #5: Convolutional Networks\n",
    "Author: Pierre Nugues"
   ]
  },
  {
   "cell_type": "code",
   "execution_count": 1,
   "metadata": {
    "id": "aMRyeTqc9olo"
   },
   "outputs": [],
   "source": [
    "# Student code by:\n",
    "# Marcus Ascard & Ludvig Liftng"
   ]
  },
  {
   "cell_type": "markdown",
   "metadata": {
    "id": "UmCAkZQb8e2c"
   },
   "source": [
    "<h2>Objectives</h2>"
   ]
  },
  {
   "cell_type": "markdown",
   "metadata": {
    "id": "nvkKYrSg8e2d"
   },
   "source": [
    "The objectives of this assignment are to:\n",
    "* Write a program to recognize flowers on images\n",
    "* Learn how to manage an image data set\n",
    "* Apply convolutional networks to images\n",
    "* Understand class activation\n",
    "* Write a short report on your experiments. This report is mandatory to pass the assignment."
   ]
  },
  {
   "cell_type": "markdown",
   "metadata": {
    "id": "WfhuQ6CS8e2f"
   },
   "source": [
    "## Organization"
   ]
  },
  {
   "cell_type": "markdown",
   "metadata": {
    "id": "_vJHbWYD8e2f"
   },
   "source": [
    "Each group will have to:\n",
    "* Write Python programs to recognize the type of flowers in an image.\n",
    "* Experiment different neural architectures and compare the results.\n",
    "\n",
    "Each student will have to:\n",
    "* Run at home Chollet's notebook: `chapter09_part03_interpreting-what-convnets-learn.ipynb`. You can download from https://github.com/fchollet/deep-learning-with-python-notebooks.\n",
    "* Write an individual report on these experiments.\n",
    "\n",
    "While not compulsory, I highly recommend that you use Google colab and run your program on a GPU (Unless you have a GPU on your machine). This is something you select when you run the notebook (runtime type). You will have to create a Google account for this: https://colab.research.google.com\n",
    "\n",
    "As there are a few parameterization steps, I recommend that you start this lab as early as you can."
   ]
  },
  {
   "cell_type": "markdown",
   "metadata": {
    "id": "QauLlp9V8e2h"
   },
   "source": [
    "## Collecting a Dataset"
   ]
  },
  {
   "cell_type": "markdown",
   "metadata": {
    "id": "1FUSXFLF8e2h"
   },
   "source": [
    "1. Register to Kaggle (https://www.kaggle.com/) to collect the datset used in this experiment. It is free and you will have access to lots of datasets. If you do not want to register, go to step 2.\n",
    "2. Download the Flower corpus:\n",
    "   * Either from Kaggle if you have registered (https://www.kaggle.com/alxmamaev/flowers-recognition). \n",
    "   * Or use a local copy, `flower-recognition.zip`, in the `datasets` folder in canvas.\n",
    "3. Split randomly your dataset into training, validation, and test sets: Use a 60/20/20 ratio. You will read all the file names and create a list of pairs, (file_name, category). You will then shuffle your list and save your partition of the data. To speed up the lab, you can also:\n",
    "   * Start with the partition available in the canvas folder (`flower_split.zip`); or\n",
    "   * Run the code in the cells below (recommended).\n"
   ]
  },
  {
   "cell_type": "code",
   "execution_count": null,
   "metadata": {
    "id": "beGyHUcj8e2j"
   },
   "outputs": [],
   "source": [
    "import os\n",
    "import random\n",
    "import shutil\n",
    "from tqdm import tqdm\n",
    "\n",
    "# The machine name. Use the name colab is you run the code from Google colab\n",
    "machine_name = 'colab'\n",
    "\n",
    "# To create the same dataset\n",
    "random.seed(0)"
   ]
  },
  {
   "cell_type": "markdown",
   "metadata": {
    "id": "uze4slkS8e2l"
   },
   "source": [
    "If you use Google colab (recommended). Use the GPU accelerator"
   ]
  },
  {
   "cell_type": "code",
   "execution_count": null,
   "metadata": {
    "colab": {
     "base_uri": "https://localhost:8080/"
    },
    "executionInfo": {
     "elapsed": 17495,
     "status": "ok",
     "timestamp": 1639236878508,
     "user": {
      "displayName": "marcus.ascard@hotmail.com",
      "photoUrl": "https://lh3.googleusercontent.com/a/default-user=s64",
      "userId": "03115809186989619152"
     },
     "user_tz": -60
    },
    "id": "0-DI9LUB8e2m",
    "outputId": "fa269102-1835-4b8f-cca4-98f1ae979871"
   },
   "outputs": [
    {
     "name": "stdout",
     "output_type": "stream",
     "text": [
      "Mounted at /content/drive\n"
     ]
    }
   ],
   "source": [
    "if machine_name == 'colab':\n",
    "    from google.colab import drive\n",
    "    drive.mount(\"/content/drive\")\n",
    " "
   ]
  },
  {
   "cell_type": "code",
   "execution_count": null,
   "metadata": {
    "id": "X2eWxT8O8e2m"
   },
   "outputs": [],
   "source": [
    "# Here write the path to your dataset\n",
    "\n",
    "if machine_name == 'vilde':\n",
    "    base = '/home/pierre/Cours/EDAN95/datasets/'\n",
    "elif machine_name == 'pierre':\n",
    "    base = '/Users/pierre/Documents/Cours/EDAN95/datasets/'\n",
    "elif machine_name == 'colab': # If you run your notebook with colab\n",
    "    base = '/content/drive/My Drive/Colab Notebooks/'\n",
    "else: # If you run your notebook on your machine\n",
    "    base = '../'\n",
    "   # dataset = open('../../lab3/sentences.csv', encoding='utf8').read()"
   ]
  },
  {
   "cell_type": "code",
   "execution_count": null,
   "metadata": {
    "colab": {
     "base_uri": "https://localhost:8080/"
    },
    "executionInfo": {
     "elapsed": 603,
     "status": "ok",
     "timestamp": 1639236885722,
     "user": {
      "displayName": "marcus.ascard@hotmail.com",
      "photoUrl": "https://lh3.googleusercontent.com/a/default-user=s64",
      "userId": "03115809186989619152"
     },
     "user_tz": -60
    },
    "id": "q91lact-8e2n",
    "outputId": "5149479e-e2b4-4a09-d220-f6455547ba99"
   },
   "outputs": [
    {
     "name": "stdout",
     "output_type": "stream",
     "text": [
      "Image types: ['sunflower', 'dandelion', 'tulip', 'daisy', 'rose']\n",
      "/content/drive/My Drive/Colab Notebooks/flowers_split\n"
     ]
    }
   ],
   "source": [
    "original_dataset_dir = os.path.join(base, 'flowers')\n",
    "dataset = os.path.join(base, 'flowers_split')\n",
    "\n",
    "train_dir = os.path.join(dataset, 'train')\n",
    "validation_dir = os.path.join(dataset, 'validation')\n",
    "test_dir = os.path.join(dataset, 'test')\n",
    "\n",
    "categories = os.listdir(original_dataset_dir)\n",
    "categories = [category for category in categories if not category.startswith('.')]\n",
    "print('Image types:', categories)\n",
    "data_folders = [os.path.join(original_dataset_dir, category) for category in categories]\n",
    "#data_folders\n",
    "print(dataset)"
   ]
  },
  {
   "cell_type": "markdown",
   "metadata": {
    "id": "MIPiG9gm8e2o"
   },
   "source": [
    "We build the (image, label) pairs"
   ]
  },
  {
   "cell_type": "code",
   "execution_count": null,
   "metadata": {
    "colab": {
     "base_uri": "https://localhost:8080/"
    },
    "executionInfo": {
     "elapsed": 6283,
     "status": "ok",
     "timestamp": 1639236893722,
     "user": {
      "displayName": "marcus.ascard@hotmail.com",
      "photoUrl": "https://lh3.googleusercontent.com/a/default-user=s64",
      "userId": "03115809186989619152"
     },
     "user_tz": -60
    },
    "id": "1JCn-cHO8e2o",
    "outputId": "63ed3503-a068-4420-ac46-d1c5c3c8af10"
   },
   "outputs": [
    {
     "data": {
      "text/plain": [
       "[('1240626292_52cd5d7fb1_m.jpg', 'sunflower'),\n",
       " ('1044296388_912143e1d4.jpg', 'sunflower'),\n",
       " ('13095941995_9a66faa713_n.jpg', 'sunflower'),\n",
       " ('13648603305_1268eda8b7_n.jpg', 'sunflower'),\n",
       " ('12471441503_d188b5f31a_m.jpg', 'sunflower'),\n",
       " ('1022552002_2b93faf9e7_n.jpg', 'sunflower'),\n",
       " ('13568621944_d575324b8c_n.jpg', 'sunflower'),\n",
       " ('13117907313_86c99c6441.jpg', 'sunflower'),\n",
       " ('1314584013_fe935fdeb1_n.jpg', 'sunflower'),\n",
       " ('13096076565_72c2c60875_n.jpg', 'sunflower')]"
      ]
     },
     "execution_count": 5,
     "metadata": {},
     "output_type": "execute_result"
    }
   ],
   "source": [
    "pairs = []\n",
    "for folder, category in zip(data_folders, categories):\n",
    "    images = os.listdir(folder)\n",
    "    images = [image for image in images if not image.startswith('.')]\n",
    "    pairs.extend([(image, category) for image in images])\n",
    "pairs[:10]"
   ]
  },
  {
   "cell_type": "markdown",
   "metadata": {
    "id": "5F3daE258e2p"
   },
   "source": [
    "We define a split. We will run this part only once to create the partition into training, validation, and test sets."
   ]
  },
  {
   "cell_type": "code",
   "execution_count": null,
   "metadata": {
    "id": "caFsSqvG8e2p"
   },
   "outputs": [],
   "source": [
    "if not os.path.isdir(dataset):\n",
    "    random.shuffle(pairs)\n",
    "    img_nbr = len(pairs)\n",
    "    train_images = pairs[0:int(0.6 * img_nbr)]\n",
    "    val_images = pairs[int(0.6 * img_nbr):int(0.8 * img_nbr)]\n",
    "    test_images = pairs[int(0.8 * img_nbr):]\n",
    "\n",
    "    # print(train_images)\n",
    "    print(len(train_images))\n",
    "    print(len(val_images))\n",
    "    print(len(test_images))"
   ]
  },
  {
   "cell_type": "markdown",
   "metadata": {
    "id": "mkzJ1qUs8e2q"
   },
   "source": [
    "We create the three subsets. We will run this part only once to create the partition into training, validation, and test sets."
   ]
  },
  {
   "cell_type": "code",
   "execution_count": null,
   "metadata": {
    "id": "jDlFM4W88e2q"
   },
   "outputs": [],
   "source": [
    "if not os.path.isdir(dataset):\n",
    "    for image, label in tqdm(train_images):\n",
    "        src = os.path.join(original_dataset_dir, label, image)\n",
    "        dst = os.path.join(train_dir, label, image)\n",
    "        os.makedirs(os.path.dirname(dst), exist_ok=True)\n",
    "        shutil.copyfile(src, dst)\n",
    "\n",
    "    for image, label in tqdm(val_images):\n",
    "        src = os.path.join(original_dataset_dir, label, image)\n",
    "        dst = os.path.join(validation_dir, label, image)\n",
    "        os.makedirs(os.path.dirname(dst), exist_ok=True)\n",
    "        shutil.copyfile(src, dst)\n",
    "\n",
    "    for image, label in tqdm(test_images):\n",
    "        src = os.path.join(original_dataset_dir, label, image)\n",
    "        dst = os.path.join(test_dir, label, image)\n",
    "        os.makedirs(os.path.dirname(dst), exist_ok=True)\n",
    "        shutil.copyfile(src, dst)"
   ]
  },
  {
   "cell_type": "markdown",
   "metadata": {
    "id": "BQKbDApT8e2q"
   },
   "source": [
    "## Building a Simple Convolutional Neural Network"
   ]
  },
  {
   "cell_type": "markdown",
   "metadata": {
    "id": "pBrp7anO8e2q"
   },
   "source": [
    "### Architecture"
   ]
  },
  {
   "cell_type": "markdown",
   "metadata": {
    "id": "-ZLoEM-w8e2r"
   },
   "source": [
    "Create a simple convolutional network and train a model with the training set. You can start from the architecture proposed by Chollet, Listing 8.7 (in Chollet's notebook chapter 8), and a small number of epochs. Use the `Rescaling` layer to scale your images as in the book:\n",
    "```\n",
    "layer.Rescaling(1.255)\n",
    "```\n",
    "* You will need to modify some parameters so that your network handles multiple classes.\n",
    "* You will report the training and validation losses and accuracies and comment on the possible overfit."
   ]
  },
  {
   "cell_type": "code",
   "execution_count": null,
   "metadata": {
    "id": "KCYaodea8e2r",
    "scrolled": true
   },
   "outputs": [],
   "source": [
    "\n",
    "import numpy as np\n",
    "from sklearn.metrics import classification_report, confusion_matrix, accuracy_score\n",
    "import matplotlib.pyplot as plt\n",
    "from tensorflow import keras\n",
    "from keras import layers\n",
    "from keras import models\n",
    "from keras import optimizers\n",
    "\n",
    "EPOCHS = 30\n",
    "OPTIMIZER = 'rmsprop'\n",
    "# The pretrained network\n",
    "PRETRAINED = 'INCEPTION'"
   ]
  },
  {
   "cell_type": "markdown",
   "metadata": {
    "id": "7sfR2sRu8e2r"
   },
   "source": [
    "Create the network and compile it"
   ]
  },
  {
   "cell_type": "code",
   "execution_count": null,
   "metadata": {
    "id": "ONPTXVqB8e2r"
   },
   "outputs": [],
   "source": [
    "# Write your code here\n",
    "inputs = keras.Input(shape=(180, 180, 3))\n",
    "x = layers.Rescaling(1./255)(inputs)\n",
    "\n",
    "# The neural net:\n",
    "x = layers.Conv2D(filters=32, kernel_size=3, activation=\"relu\")(x)\n",
    "x = layers.MaxPooling2D(pool_size=2)(x)\n",
    "x = layers.Conv2D(filters=64, kernel_size=3, activation=\"relu\")(x)\n",
    "x = layers.MaxPooling2D(pool_size=2)(x)\n",
    "x = layers.Conv2D(filters=128, kernel_size=3, activation=\"relu\")(x)\n",
    "x = layers.MaxPooling2D(pool_size=2)(x)\n",
    "x = layers.Conv2D(filters=128, kernel_size=3, activation=\"relu\")(x)\n",
    "x = layers.MaxPooling2D(pool_size=2)(x)\n",
    "x = layers.Flatten()(x)\n",
    "x = layers.Dense(512, activation=\"tanh\")(x)\n",
    "outputs = layers.Dense(5, activation=\"softmax\")(x)\n",
    "model = keras.Model(inputs=inputs, outputs=outputs)"
   ]
  },
  {
   "cell_type": "markdown",
   "metadata": {
    "id": "rRcBLqDa8e2s"
   },
   "source": [
    "Compile your network"
   ]
  },
  {
   "cell_type": "code",
   "execution_count": null,
   "metadata": {
    "id": "J0C51DHX8e2s"
   },
   "outputs": [],
   "source": [
    "model.compile(optimizer=\"rmsprop\", loss=\"sparse_categorical_crossentropy\", metrics=[\"accuracy\"])"
   ]
  },
  {
   "cell_type": "code",
   "execution_count": null,
   "metadata": {
    "colab": {
     "base_uri": "https://localhost:8080/"
    },
    "executionInfo": {
     "elapsed": 3,
     "status": "ok",
     "timestamp": 1638784693285,
     "user": {
      "displayName": "marcus.ascard@hotmail.com",
      "photoUrl": "https://lh3.googleusercontent.com/a/default-user=s64",
      "userId": "03115809186989619152"
     },
     "user_tz": -60
    },
    "id": "a2dZBcJl8e2s",
    "outputId": "2ff244a3-440c-488b-ced8-2e1d41c0d94f"
   },
   "outputs": [
    {
     "name": "stdout",
     "output_type": "stream",
     "text": [
      "Model: \"model_4\"\n",
      "_________________________________________________________________\n",
      " Layer (type)                Output Shape              Param #   \n",
      "=================================================================\n",
      " input_7 (InputLayer)        [(None, 180, 180, 3)]     0         \n",
      "                                                                 \n",
      " rescaling_2 (Rescaling)     (None, 180, 180, 3)       0         \n",
      "                                                                 \n",
      " conv2d_196 (Conv2D)         (None, 178, 178, 32)      896       \n",
      "                                                                 \n",
      " max_pooling2d_16 (MaxPoolin  (None, 89, 89, 32)       0         \n",
      " g2D)                                                            \n",
      "                                                                 \n",
      " conv2d_197 (Conv2D)         (None, 87, 87, 64)        18496     \n",
      "                                                                 \n",
      " max_pooling2d_17 (MaxPoolin  (None, 43, 43, 64)       0         \n",
      " g2D)                                                            \n",
      "                                                                 \n",
      " conv2d_198 (Conv2D)         (None, 41, 41, 128)       73856     \n",
      "                                                                 \n",
      " max_pooling2d_18 (MaxPoolin  (None, 20, 20, 128)      0         \n",
      " g2D)                                                            \n",
      "                                                                 \n",
      " conv2d_199 (Conv2D)         (None, 18, 18, 128)       147584    \n",
      "                                                                 \n",
      " max_pooling2d_19 (MaxPoolin  (None, 9, 9, 128)        0         \n",
      " g2D)                                                            \n",
      "                                                                 \n",
      " flatten_4 (Flatten)         (None, 10368)             0         \n",
      "                                                                 \n",
      " dense_8 (Dense)             (None, 512)               5308928   \n",
      "                                                                 \n",
      " dense_9 (Dense)             (None, 5)                 2565      \n",
      "                                                                 \n",
      "=================================================================\n",
      "Total params: 5,552,325\n",
      "Trainable params: 5,552,325\n",
      "Non-trainable params: 0\n",
      "_________________________________________________________________\n"
     ]
    }
   ],
   "source": [
    "model.summary()"
   ]
  },
  {
   "cell_type": "markdown",
   "metadata": {
    "id": "O29Lw4TD8e2s"
   },
   "source": [
    "Create now the data readers for the training, validation, and test sets"
   ]
  },
  {
   "cell_type": "code",
   "execution_count": null,
   "metadata": {
    "colab": {
     "base_uri": "https://localhost:8080/"
    },
    "executionInfo": {
     "elapsed": 8348,
     "status": "ok",
     "timestamp": 1639236963226,
     "user": {
      "displayName": "marcus.ascard@hotmail.com",
      "photoUrl": "https://lh3.googleusercontent.com/a/default-user=s64",
      "userId": "03115809186989619152"
     },
     "user_tz": -60
    },
    "id": "NtWFQTjX8e2t",
    "outputId": "a4079f17-8bee-4460-bdf7-1125f2b01c7a"
   },
   "outputs": [
    {
     "name": "stdout",
     "output_type": "stream",
     "text": [
      "Found 2590 files belonging to 5 classes.\n",
      "Found 863 files belonging to 5 classes.\n",
      "Found 864 files belonging to 5 classes.\n"
     ]
    }
   ],
   "source": [
    "# Write your code here\n",
    "# Write your code here\n",
    "from tensorflow.keras.utils import image_dataset_from_directory\n",
    "\n",
    "train_dataset = image_dataset_from_directory(\n",
    "    os.path.join(dataset, \"train\"),\n",
    "    image_size=(180, 180),\n",
    "    batch_size=32)\n",
    "validation_dataset = image_dataset_from_directory(\n",
    "    os.path.join(dataset, \"validation\"),\n",
    "    image_size=(180, 180),\n",
    "    batch_size=32)\n",
    "test_dataset = image_dataset_from_directory(\n",
    "    os.path.join(dataset, \"test\"),\n",
    "    image_size=(180, 180),\n",
    "    batch_size=32)"
   ]
  },
  {
   "cell_type": "markdown",
   "metadata": {
    "id": "bLeySVHi8e2t"
   },
   "source": [
    "You will now fit your model. Before, you will define a callback as in Chollet's book."
   ]
  },
  {
   "cell_type": "code",
   "execution_count": null,
   "metadata": {
    "id": "fM9K5GMn8e2t"
   },
   "outputs": [],
   "source": [
    "# Write your callback here\n",
    "callbacks = [\n",
    "    keras.callbacks.ModelCheckpoint(\n",
    "        filepath=\"convnet_from_scratch.keras\",\n",
    "        save_best_only=True,\n",
    "        monitor=\"val_loss\")\n",
    "]\n",
    " "
   ]
  },
  {
   "cell_type": "markdown",
   "metadata": {
    "id": "IfNuqmmD8e2t"
   },
   "source": [
    "And fit your model"
   ]
  },
  {
   "cell_type": "code",
   "execution_count": null,
   "metadata": {
    "colab": {
     "base_uri": "https://localhost:8080/"
    },
    "executionInfo": {
     "elapsed": 471711,
     "status": "ok",
     "timestamp": 1638785188330,
     "user": {
      "displayName": "marcus.ascard@hotmail.com",
      "photoUrl": "https://lh3.googleusercontent.com/a/default-user=s64",
      "userId": "03115809186989619152"
     },
     "user_tz": -60
    },
    "id": "2xUccnbz8e2t",
    "outputId": "beadc9ea-fd7e-48c0-8d91-d66c0e67fe9a"
   },
   "outputs": [
    {
     "name": "stdout",
     "output_type": "stream",
     "text": [
      "Epoch 1/30\n",
      "81/81 [==============================] - 16s 164ms/step - loss: 1.6294 - accuracy: 0.3753 - val_loss: 1.1606 - val_accuracy: 0.5180\n",
      "Epoch 2/30\n",
      "81/81 [==============================] - 13s 146ms/step - loss: 1.1887 - accuracy: 0.5178 - val_loss: 1.0291 - val_accuracy: 0.5886\n",
      "Epoch 3/30\n",
      "81/81 [==============================] - 12s 145ms/step - loss: 1.0039 - accuracy: 0.6100 - val_loss: 1.0820 - val_accuracy: 0.5562\n",
      "Epoch 4/30\n",
      "81/81 [==============================] - 13s 149ms/step - loss: 0.8900 - accuracy: 0.6591 - val_loss: 0.9010 - val_accuracy: 0.6489\n",
      "Epoch 5/30\n",
      "81/81 [==============================] - 13s 149ms/step - loss: 0.7505 - accuracy: 0.7174 - val_loss: 0.8986 - val_accuracy: 0.6756\n",
      "Epoch 6/30\n",
      "81/81 [==============================] - 12s 145ms/step - loss: 0.6397 - accuracy: 0.7641 - val_loss: 0.9363 - val_accuracy: 0.6779\n",
      "Epoch 7/30\n",
      "81/81 [==============================] - 12s 145ms/step - loss: 0.5142 - accuracy: 0.8212 - val_loss: 1.1014 - val_accuracy: 0.6396\n",
      "Epoch 8/30\n",
      "81/81 [==============================] - 12s 144ms/step - loss: 0.3922 - accuracy: 0.8602 - val_loss: 1.2695 - val_accuracy: 0.6443\n",
      "Epoch 9/30\n",
      "81/81 [==============================] - 13s 146ms/step - loss: 0.2815 - accuracy: 0.9035 - val_loss: 1.4226 - val_accuracy: 0.6605\n",
      "Epoch 10/30\n",
      "81/81 [==============================] - 12s 145ms/step - loss: 0.2130 - accuracy: 0.9320 - val_loss: 1.3709 - val_accuracy: 0.6721\n",
      "Epoch 11/30\n",
      "81/81 [==============================] - 12s 145ms/step - loss: 0.2002 - accuracy: 0.9382 - val_loss: 1.6097 - val_accuracy: 0.6593\n",
      "Epoch 12/30\n",
      "81/81 [==============================] - 15s 178ms/step - loss: 0.1683 - accuracy: 0.9498 - val_loss: 1.9388 - val_accuracy: 0.6153\n",
      "Epoch 13/30\n",
      "81/81 [==============================] - 12s 145ms/step - loss: 0.1069 - accuracy: 0.9645 - val_loss: 1.9775 - val_accuracy: 0.6535\n",
      "Epoch 14/30\n",
      "81/81 [==============================] - 12s 144ms/step - loss: 0.1370 - accuracy: 0.9568 - val_loss: 2.0795 - val_accuracy: 0.6524\n",
      "Epoch 15/30\n",
      "81/81 [==============================] - 13s 147ms/step - loss: 0.1160 - accuracy: 0.9649 - val_loss: 2.1299 - val_accuracy: 0.6280\n",
      "Epoch 16/30\n",
      "81/81 [==============================] - 13s 146ms/step - loss: 0.0771 - accuracy: 0.9788 - val_loss: 2.5129 - val_accuracy: 0.6616\n",
      "Epoch 17/30\n",
      "81/81 [==============================] - 12s 144ms/step - loss: 0.1221 - accuracy: 0.9676 - val_loss: 2.4815 - val_accuracy: 0.6559\n",
      "Epoch 18/30\n",
      "81/81 [==============================] - 12s 145ms/step - loss: 0.0787 - accuracy: 0.9761 - val_loss: 2.5805 - val_accuracy: 0.6199\n",
      "Epoch 19/30\n",
      "81/81 [==============================] - 12s 143ms/step - loss: 0.1016 - accuracy: 0.9710 - val_loss: 2.4677 - val_accuracy: 0.6385\n",
      "Epoch 20/30\n",
      "81/81 [==============================] - 13s 147ms/step - loss: 0.0692 - accuracy: 0.9815 - val_loss: 2.5027 - val_accuracy: 0.6547\n",
      "Epoch 21/30\n",
      "81/81 [==============================] - 12s 146ms/step - loss: 0.0777 - accuracy: 0.9803 - val_loss: 2.4495 - val_accuracy: 0.6466\n",
      "Epoch 22/30\n",
      "81/81 [==============================] - 13s 146ms/step - loss: 0.0857 - accuracy: 0.9792 - val_loss: 2.6875 - val_accuracy: 0.6385\n",
      "Epoch 23/30\n",
      "81/81 [==============================] - 13s 146ms/step - loss: 0.0551 - accuracy: 0.9849 - val_loss: 2.7594 - val_accuracy: 0.6222\n",
      "Epoch 24/30\n",
      "81/81 [==============================] - 12s 145ms/step - loss: 0.0750 - accuracy: 0.9745 - val_loss: 2.8627 - val_accuracy: 0.6095\n",
      "Epoch 25/30\n",
      "81/81 [==============================] - 13s 149ms/step - loss: 0.0397 - accuracy: 0.9876 - val_loss: 2.9056 - val_accuracy: 0.6396\n",
      "Epoch 26/30\n",
      "81/81 [==============================] - 12s 145ms/step - loss: 0.0628 - accuracy: 0.9811 - val_loss: 2.8165 - val_accuracy: 0.6454\n",
      "Epoch 27/30\n",
      "81/81 [==============================] - 12s 145ms/step - loss: 0.0681 - accuracy: 0.9830 - val_loss: 2.6357 - val_accuracy: 0.6454\n",
      "Epoch 28/30\n",
      "81/81 [==============================] - 12s 144ms/step - loss: 0.0569 - accuracy: 0.9880 - val_loss: 2.8436 - val_accuracy: 0.6211\n",
      "Epoch 29/30\n",
      "81/81 [==============================] - 13s 146ms/step - loss: 0.0499 - accuracy: 0.9849 - val_loss: 3.3773 - val_accuracy: 0.6083\n",
      "Epoch 30/30\n",
      "81/81 [==============================] - 15s 175ms/step - loss: 0.0402 - accuracy: 0.9861 - val_loss: 2.7923 - val_accuracy: 0.6246\n"
     ]
    }
   ],
   "source": [
    "# Write your fitting code here\n",
    "history = model.fit(\n",
    "    train_dataset,\n",
    "    epochs=30,\n",
    "    validation_data=validation_dataset,\n",
    "    callbacks=callbacks)"
   ]
  },
  {
   "cell_type": "markdown",
   "metadata": {
    "id": "f3nVp3dL8e2u"
   },
   "source": [
    "### Analyzing the fitting performance over epochs"
   ]
  },
  {
   "cell_type": "markdown",
   "metadata": {
    "id": "I0Er45Ah8e2u"
   },
   "source": [
    "As in Chollet's examples, show the training and validation loss"
   ]
  },
  {
   "cell_type": "code",
   "execution_count": null,
   "metadata": {
    "colab": {
     "base_uri": "https://localhost:8080/",
     "height": 545
    },
    "executionInfo": {
     "elapsed": 999,
     "status": "ok",
     "timestamp": 1638785234198,
     "user": {
      "displayName": "marcus.ascard@hotmail.com",
      "photoUrl": "https://lh3.googleusercontent.com/a/default-user=s64",
      "userId": "03115809186989619152"
     },
     "user_tz": -60
    },
    "id": "QNTbThvm8e2u",
    "outputId": "5aad32a0-4f14-49f2-c521-8fd698ad49c5"
   },
   "outputs": [
    {
     "data": {
      "image/png": "[encoded data removed]",
      "text/plain": [
       "<Figure size 432x288 with 1 Axes>"
      ]
     },
     "metadata": {
      "needs_background": "light"
     },
     "output_type": "display_data"
    },
    {
     "data": {
      "image/png": "[encoded data removed]",
      "text/plain": [
       "<Figure size 432x288 with 1 Axes>"
      ]
     },
     "metadata": {
      "needs_background": "light"
     },
     "output_type": "display_data"
    }
   ],
   "source": [
    "# Write your code here \n",
    "#history.load_weights()\n",
    "\n",
    "accuracy = history.history[\"accuracy\"]\n",
    "val_accuracy = history.history[\"val_accuracy\"]\n",
    "loss = history.history[\"loss\"]\n",
    "val_loss = history.history[\"val_loss\"]\n",
    "epochs = range(1, len(accuracy) + 1)\n",
    "plt.plot(epochs, accuracy, \"bo\", label=\"Training accuracy\")\n",
    "plt.plot(epochs, val_accuracy, \"b\", label=\"Validation accuracy\")\n",
    "plt.title(\"Training and validation accuracy\")\n",
    "plt.legend()\n",
    "plt.figure()\n",
    "plt.plot(epochs, loss, \"bo\", label=\"Training loss\")\n",
    "plt.plot(epochs, val_loss, \"b\", label=\"Validation loss\")\n",
    "plt.title(\"Training and validation loss\")\n",
    "plt.legend()\n",
    "plt.show()"
   ]
  },
  {
   "cell_type": "markdown",
   "metadata": {
    "id": "dFvwgsOz8e2u"
   },
   "source": [
    "### Predicting the test set"
   ]
  },
  {
   "cell_type": "markdown",
   "metadata": {
    "id": "R3V1Y8Va8e2u"
   },
   "source": [
    "You will now apply now your network to the test set. Read the best model from your checkpoints"
   ]
  },
  {
   "cell_type": "code",
   "execution_count": null,
   "metadata": {
    "id": "cZYGrNye8e2v"
   },
   "outputs": [],
   "source": [
    "# Write your code here\n",
    "test_model = keras.models.load_model(\"convnet_from_scratch.keras\")"
   ]
  },
  {
   "cell_type": "markdown",
   "metadata": {
    "id": "lE50FMuy8e2v"
   },
   "source": [
    "Predict the test set classes. Call the matrix of prediction probabilities `Y_pred` and the predicted classes `y_pred`. While predicting, extract the annotations that you will call `y_true`."
   ]
  },
  {
   "cell_type": "code",
   "execution_count": null,
   "metadata": {
    "id": "6VG3mGYz8e2v",
    "scrolled": true
   },
   "outputs": [],
   "source": [
    "# Write your code here  \n",
    "y_pred = []\n",
    "Y_pred = []\n",
    "y_true = [] \n",
    "# 27 batches á 32 images\n",
    "\n",
    "for image_batch, label_batch in test_dataset:  \n",
    "  for labels in label_batch:\n",
    "    y_true.append(int(labels)) \n",
    " \n",
    "  predictions = test_model.predict(image_batch)\n",
    "  for a_prediction in predictions: \n",
    "    y_pred.append(np.argmax(a_prediction))\n",
    "    Y_pred.append(a_prediction)  "
   ]
  },
  {
   "cell_type": "code",
   "execution_count": null,
   "metadata": {
    "colab": {
     "base_uri": "https://localhost:8080/"
    },
    "executionInfo": {
     "elapsed": 13,
     "status": "ok",
     "timestamp": 1638785254206,
     "user": {
      "displayName": "marcus.ascard@hotmail.com",
      "photoUrl": "https://lh3.googleusercontent.com/a/default-user=s64",
      "userId": "03115809186989619152"
     },
     "user_tz": -60
    },
    "id": "xoORkFTA8e2v",
    "outputId": "7b6ce09c-65d6-4519-c151-3134f6d75c80"
   },
   "outputs": [
    {
     "data": {
      "text/plain": [
       "[array([0.09183127, 0.08109216, 0.17204383, 0.16123416, 0.49379858],\n",
       "       dtype=float32),\n",
       " array([0.06778178, 0.00285069, 0.00241131, 0.9172867 , 0.00966939],\n",
       "       dtype=float32),\n",
       " array([0.02346152, 0.45082167, 0.00838902, 0.4730227 , 0.04430515],\n",
       "       dtype=float32),\n",
       " array([1.8486655e-03, 2.4102494e-02, 9.6521311e-04, 9.6996683e-01,\n",
       "        3.1168191e-03], dtype=float32),\n",
       " array([0.20260271, 0.43930933, 0.04593447, 0.08650974, 0.2256438 ],\n",
       "       dtype=float32)]"
      ]
     },
     "execution_count": 76,
     "metadata": {},
     "output_type": "execute_result"
    }
   ],
   "source": [
    "Y_pred[:5] "
   ]
  },
  {
   "cell_type": "code",
   "execution_count": null,
   "metadata": {
    "colab": {
     "base_uri": "https://localhost:8080/"
    },
    "executionInfo": {
     "elapsed": 9,
     "status": "ok",
     "timestamp": 1638785254207,
     "user": {
      "displayName": "marcus.ascard@hotmail.com",
      "photoUrl": "https://lh3.googleusercontent.com/a/default-user=s64",
      "userId": "03115809186989619152"
     },
     "user_tz": -60
    },
    "id": "r119vAdw8e2w",
    "outputId": "bf7cd1fd-5d12-4920-d142-28c4b838a583"
   },
   "outputs": [
    {
     "data": {
      "text/plain": [
       "[4, 3, 3, 3, 1]"
      ]
     },
     "execution_count": 77,
     "metadata": {},
     "output_type": "execute_result"
    }
   ],
   "source": [
    "y_pred[:5]"
   ]
  },
  {
   "cell_type": "code",
   "execution_count": null,
   "metadata": {
    "colab": {
     "base_uri": "https://localhost:8080/"
    },
    "executionInfo": {
     "elapsed": 6,
     "status": "ok",
     "timestamp": 1638785254207,
     "user": {
      "displayName": "marcus.ascard@hotmail.com",
      "photoUrl": "https://lh3.googleusercontent.com/a/default-user=s64",
      "userId": "03115809186989619152"
     },
     "user_tz": -60
    },
    "id": "Po_KNWMo8e2w",
    "outputId": "d1416571-7241-4926-a283-68e9b6cf1550"
   },
   "outputs": [
    {
     "data": {
      "text/plain": [
       "[0, 0, 3, 3, 4]"
      ]
     },
     "execution_count": 78,
     "metadata": {},
     "output_type": "execute_result"
    }
   ],
   "source": [
    "y_true[:5]"
   ]
  },
  {
   "cell_type": "markdown",
   "metadata": {
    "id": "LLzDgArM8e2w"
   },
   "source": [
    "Evaluate your model and report the loss and accuracy using Keras `evaluate()` function. You will store them in the `test_loss_1` and `test_acc_1` variables."
   ]
  },
  {
   "cell_type": "code",
   "execution_count": null,
   "metadata": {
    "colab": {
     "base_uri": "https://localhost:8080/"
    },
    "executionInfo": {
     "elapsed": 3218,
     "status": "ok",
     "timestamp": 1638785266853,
     "user": {
      "displayName": "marcus.ascard@hotmail.com",
      "photoUrl": "https://lh3.googleusercontent.com/a/default-user=s64",
      "userId": "03115809186989619152"
     },
     "user_tz": -60
    },
    "id": "2rOP_p428e2w",
    "outputId": "2c966e5f-8665-4e7a-88cd-dd140c223850"
   },
   "outputs": [
    {
     "name": "stdout",
     "output_type": "stream",
     "text": [
      "27/27 [==============================] - 3s 80ms/step - loss: 0.9632 - accuracy: 0.6528\n",
      "Test accuracy: 0.653\n",
      "Test loss: 0.963\n"
     ]
    }
   ],
   "source": [
    "# Write your code here \n",
    "test_loss_1, test_acc_1 = test_model.evaluate(test_dataset)\n",
    "print(f\"Test accuracy: {test_acc_1:.3f}\") \n",
    "print(f\"Test loss: {test_loss_1:.3f}\") "
   ]
  },
  {
   "cell_type": "code",
   "execution_count": null,
   "metadata": {
    "colab": {
     "base_uri": "https://localhost:8080/"
    },
    "executionInfo": {
     "elapsed": 201,
     "status": "ok",
     "timestamp": 1638785313596,
     "user": {
      "displayName": "marcus.ascard@hotmail.com",
      "photoUrl": "https://lh3.googleusercontent.com/a/default-user=s64",
      "userId": "03115809186989619152"
     },
     "user_tz": -60
    },
    "id": "35hxcIAt8e2w",
    "outputId": "2645a48c-8a4d-4d26-fe14-10dac6073a6d"
   },
   "outputs": [
    {
     "data": {
      "text/plain": [
       "(0.9631732702255249, 0.6527777910232544)"
      ]
     },
     "execution_count": 80,
     "metadata": {},
     "output_type": "execute_result"
    }
   ],
   "source": [
    "test_loss_1, test_acc_1"
   ]
  },
  {
   "cell_type": "markdown",
   "metadata": {
    "id": "-FLJfs9c8e2x"
   },
   "source": [
    "Report the accuracy as well as the classification report. Use sklearn functions this time."
   ]
  },
  {
   "cell_type": "code",
   "execution_count": null,
   "metadata": {
    "colab": {
     "base_uri": "https://localhost:8080/"
    },
    "executionInfo": {
     "elapsed": 210,
     "status": "ok",
     "timestamp": 1638785318604,
     "user": {
      "displayName": "marcus.ascard@hotmail.com",
      "photoUrl": "https://lh3.googleusercontent.com/a/default-user=s64",
      "userId": "03115809186989619152"
     },
     "user_tz": -60
    },
    "id": "lDae6Mt-8e2x",
    "outputId": "ade7717b-d2e3-499f-f9f5-f740c1b9a54b"
   },
   "outputs": [
    {
     "name": "stdout",
     "output_type": "stream",
     "text": [
      "Class indices/names: [(0, 'daisy'), (1, 'dandelion'), (2, 'rose'), (3, 'sunflower'), (4, 'tulip')]\n",
      "sklearn accuracy: 0.65278\n",
      "Classification report: \n",
      "              precision    recall  f1-score   support\n",
      "\n",
      "           0       0.69      0.75      0.72       174\n",
      "           1       0.68      0.76      0.72       204\n",
      "           2       0.60      0.48      0.54       155\n",
      "           3       0.63      0.76      0.69       141\n",
      "           4       0.63      0.51      0.56       190\n",
      "\n",
      "    accuracy                           0.65       864\n",
      "   macro avg       0.65      0.65      0.64       864\n",
      "weighted avg       0.65      0.65      0.65       864\n",
      "\n"
     ]
    }
   ],
   "source": [
    "# Write your code here\n",
    "print(\"Class indices/names: [(0, 'daisy'), (1, 'dandelion'), (2, 'rose'), (3, 'sunflower'), (4, 'tulip')]\")\n",
    "print(f\"sklearn accuracy: {accuracy_score(y_true, y_pred):.5f}\")  \n",
    "print(\"Classification report: \")\n",
    "print(classification_report(y_true, y_pred))"
   ]
  },
  {
   "cell_type": "markdown",
   "metadata": {
    "id": "rYjWOuQ-8e2x"
   },
   "source": [
    "Print the confusion matrix. Use a sklearn function"
   ]
  },
  {
   "cell_type": "code",
   "execution_count": null,
   "metadata": {
    "colab": {
     "base_uri": "https://localhost:8080/"
    },
    "executionInfo": {
     "elapsed": 188,
     "status": "ok",
     "timestamp": 1638785329247,
     "user": {
      "displayName": "marcus.ascard@hotmail.com",
      "photoUrl": "https://lh3.googleusercontent.com/a/default-user=s64",
      "userId": "03115809186989619152"
     },
     "user_tz": -60
    },
    "id": "XEkbIqJ-8e2x",
    "outputId": "5353a4f3-dc96-4073-af66-433168f75c6d"
   },
   "outputs": [
    {
     "name": "stdout",
     "output_type": "stream",
     "text": [
      "[[131  22   3  11   7]\n",
      " [ 19 155   1  24   5]\n",
      " [ 17  17  75   6  40]\n",
      " [  6  22   2 107   4]\n",
      " [ 16  12  43  23  96]]\n"
     ]
    }
   ],
   "source": [
    "# Write your code here \n",
    "print(confusion_matrix(y_true, y_pred))"
   ]
  },
  {
   "cell_type": "markdown",
   "metadata": {
    "id": "c4LMdeI88e2x"
   },
   "source": [
    "Try to improve your model by modifying some parameters and evaluate your network again."
   ]
  },
  {
   "cell_type": "markdown",
   "metadata": {
    "id": "K1QTH16J8e2x"
   },
   "source": [
    "## Using Image Augmentation"
   ]
  },
  {
   "cell_type": "markdown",
   "metadata": {
    "id": "nObptVAI8e2y"
   },
   "source": [
    "### Architecture"
   ]
  },
  {
   "cell_type": "markdown",
   "metadata": {
    "id": "rrm2ELVa8e2y"
   },
   "source": [
    "The flower dataset is relatively small. A way to expand such datasets is to generate artificial images by applying small transformations to existing images. Keras provides built-in layers for this. You will reuse them and apply it to the flower data set.\n",
    "1. Using the network from the previous exercise, apply some transformations to your images. You can start from Chollet, Listing 8.13 (in notebook 08 also).\n",
    "2. Report the training and validation losses and accuracies and comment on the possible overfit.\n",
    "3. Apply your network to the test set and report the accuracy as well as the confusion matrix you obtained."
   ]
  },
  {
   "cell_type": "markdown",
   "metadata": {
    "id": "28bP0rcr8e2y"
   },
   "source": [
    "Write a sequence of transformation layers"
   ]
  },
  {
   "cell_type": "code",
   "execution_count": null,
   "metadata": {
    "id": "K2a9nmSl8e2y"
   },
   "outputs": [],
   "source": [
    "# Write your code here\n",
    "data_augmentation = keras.Sequential(\n",
    "    [\n",
    "        layers.RandomFlip(\"horizontal\"),\n",
    "        layers.RandomRotation(0.1),\n",
    "        layers.RandomZoom(0.2),\n",
    "    ]\n",
    ")"
   ]
  },
  {
   "cell_type": "markdown",
   "metadata": {
    "id": "LhUcOJLI8e2y"
   },
   "source": [
    "Define a model including these layers."
   ]
  },
  {
   "cell_type": "code",
   "execution_count": null,
   "metadata": {
    "id": "wEJgMk0B8e2y"
   },
   "outputs": [],
   "source": [
    "# Write your code here\n",
    "# Write your code here\n",
    "inputs = keras.Input(shape=(180, 180, 3))\n",
    "x = data_augmentation(inputs)\n",
    "x = layers.Rescaling(1./255)(x)\n",
    "# The neural net:\n",
    "x = layers.Conv2D(filters=32, kernel_size=3, activation=\"relu\")(x)\n",
    "x = layers.MaxPooling2D(pool_size=2)(x)\n",
    "x = layers.Conv2D(filters=64, kernel_size=3, activation=\"relu\")(x)\n",
    "x = layers.MaxPooling2D(pool_size=2)(x)\n",
    "x = layers.Conv2D(filters=128, kernel_size=3, activation=\"relu\")(x)\n",
    "x = layers.MaxPooling2D(pool_size=2)(x)\n",
    "x = layers.Conv2D(filters=128, kernel_size=3, activation=\"relu\")(x)\n",
    "x = layers.MaxPooling2D(pool_size=2)(x)\n",
    "x = layers.Flatten()(x)\n",
    "x = layers.Dense(512, activation=\"tanh\")(x)\n",
    "outputs = layers.Dense(5, activation=\"softmax\")(x)\n",
    "model = keras.Model(inputs=inputs, outputs=outputs)"
   ]
  },
  {
   "cell_type": "markdown",
   "metadata": {
    "id": "aXTt2jpw8e2z"
   },
   "source": [
    "Compile your network"
   ]
  },
  {
   "cell_type": "code",
   "execution_count": null,
   "metadata": {
    "id": "YD9agmJ68e2z"
   },
   "outputs": [],
   "source": [
    "# Write your code\n",
    "model.compile(optimizer=\"rmsprop\", loss=\"sparse_categorical_crossentropy\", metrics=[\"accuracy\"])"
   ]
  },
  {
   "cell_type": "code",
   "execution_count": null,
   "metadata": {
    "colab": {
     "base_uri": "https://localhost:8080/"
    },
    "executionInfo": {
     "elapsed": 230,
     "status": "ok",
     "timestamp": 1638785367439,
     "user": {
      "displayName": "marcus.ascard@hotmail.com",
      "photoUrl": "https://lh3.googleusercontent.com/a/default-user=s64",
      "userId": "03115809186989619152"
     },
     "user_tz": -60
    },
    "id": "phFfF3of8e2z",
    "outputId": "01442c6c-8b20-4e32-a8b3-6e4e770f3004"
   },
   "outputs": [
    {
     "name": "stdout",
     "output_type": "stream",
     "text": [
      "Model: \"model_5\"\n",
      "_________________________________________________________________\n",
      " Layer (type)                Output Shape              Param #   \n",
      "=================================================================\n",
      " input_8 (InputLayer)        [(None, 180, 180, 3)]     0         \n",
      "                                                                 \n",
      " sequential_2 (Sequential)   (None, 180, 180, 3)       0         \n",
      "                                                                 \n",
      " rescaling_3 (Rescaling)     (None, 180, 180, 3)       0         \n",
      "                                                                 \n",
      " conv2d_200 (Conv2D)         (None, 178, 178, 32)      896       \n",
      "                                                                 \n",
      " max_pooling2d_20 (MaxPoolin  (None, 89, 89, 32)       0         \n",
      " g2D)                                                            \n",
      "                                                                 \n",
      " conv2d_201 (Conv2D)         (None, 87, 87, 64)        18496     \n",
      "                                                                 \n",
      " max_pooling2d_21 (MaxPoolin  (None, 43, 43, 64)       0         \n",
      " g2D)                                                            \n",
      "                                                                 \n",
      " conv2d_202 (Conv2D)         (None, 41, 41, 128)       73856     \n",
      "                                                                 \n",
      " max_pooling2d_22 (MaxPoolin  (None, 20, 20, 128)      0         \n",
      " g2D)                                                            \n",
      "                                                                 \n",
      " conv2d_203 (Conv2D)         (None, 18, 18, 128)       147584    \n",
      "                                                                 \n",
      " max_pooling2d_23 (MaxPoolin  (None, 9, 9, 128)        0         \n",
      " g2D)                                                            \n",
      "                                                                 \n",
      " flatten_5 (Flatten)         (None, 10368)             0         \n",
      "                                                                 \n",
      " dense_10 (Dense)            (None, 512)               5308928   \n",
      "                                                                 \n",
      " dense_11 (Dense)            (None, 5)                 2565      \n",
      "                                                                 \n",
      "=================================================================\n",
      "Total params: 5,552,325\n",
      "Trainable params: 5,552,325\n",
      "Non-trainable params: 0\n",
      "_________________________________________________________________\n"
     ]
    }
   ],
   "source": [
    "model.summary()"
   ]
  },
  {
   "cell_type": "markdown",
   "metadata": {
    "id": "clekJzSb8e2z"
   },
   "source": [
    "Define a callback to save your best model"
   ]
  },
  {
   "cell_type": "code",
   "execution_count": null,
   "metadata": {
    "id": "abzMKpwf8e2z"
   },
   "outputs": [],
   "source": [
    "# Write your code here\n",
    "callbacks = [\n",
    "    keras.callbacks.ModelCheckpoint(\n",
    "        filepath=\"convnet_from_scratch.keras\",\n",
    "        save_best_only=True,\n",
    "        monitor=\"val_loss\")\n",
    "]"
   ]
  },
  {
   "cell_type": "markdown",
   "metadata": {
    "id": "MP29r7oa8e2z"
   },
   "source": [
    "And fit your model"
   ]
  },
  {
   "cell_type": "code",
   "execution_count": null,
   "metadata": {
    "colab": {
     "base_uri": "https://localhost:8080/"
    },
    "executionInfo": {
     "elapsed": 491347,
     "status": "ok",
     "timestamp": 1638785862220,
     "user": {
      "displayName": "marcus.ascard@hotmail.com",
      "photoUrl": "https://lh3.googleusercontent.com/a/default-user=s64",
      "userId": "03115809186989619152"
     },
     "user_tz": -60
    },
    "id": "E9z3MEsk8e2z",
    "outputId": "ebcae862-b6b7-4cea-89b3-707d5d1b030d"
   },
   "outputs": [
    {
     "name": "stdout",
     "output_type": "stream",
     "text": [
      "Epoch 1/30\n",
      "81/81 [==============================] - 15s 153ms/step - loss: 1.7558 - accuracy: 0.3672 - val_loss: 1.3289 - val_accuracy: 0.4612\n",
      "Epoch 2/30\n",
      "81/81 [==============================] - 13s 149ms/step - loss: 1.1798 - accuracy: 0.5189 - val_loss: 1.2625 - val_accuracy: 0.5180\n",
      "Epoch 3/30\n",
      "81/81 [==============================] - 13s 148ms/step - loss: 1.0962 - accuracy: 0.5737 - val_loss: 0.9487 - val_accuracy: 0.6280\n",
      "Epoch 4/30\n",
      "81/81 [==============================] - 13s 149ms/step - loss: 0.9883 - accuracy: 0.6201 - val_loss: 1.0651 - val_accuracy: 0.6280\n",
      "Epoch 5/30\n",
      "81/81 [==============================] - 13s 148ms/step - loss: 0.9456 - accuracy: 0.6263 - val_loss: 0.9020 - val_accuracy: 0.6535\n",
      "Epoch 6/30\n",
      "81/81 [==============================] - 12s 146ms/step - loss: 0.8831 - accuracy: 0.6579 - val_loss: 1.1443 - val_accuracy: 0.5863\n",
      "Epoch 7/30\n",
      "81/81 [==============================] - 13s 149ms/step - loss: 0.8370 - accuracy: 0.6849 - val_loss: 0.9017 - val_accuracy: 0.6756\n",
      "Epoch 8/30\n",
      "81/81 [==============================] - 13s 149ms/step - loss: 0.7958 - accuracy: 0.7004 - val_loss: 0.8384 - val_accuracy: 0.6779\n",
      "Epoch 9/30\n",
      "81/81 [==============================] - 13s 148ms/step - loss: 0.7847 - accuracy: 0.7015 - val_loss: 0.8299 - val_accuracy: 0.7161\n",
      "Epoch 10/30\n",
      "81/81 [==============================] - 13s 151ms/step - loss: 0.7578 - accuracy: 0.7232 - val_loss: 0.7144 - val_accuracy: 0.7254\n",
      "Epoch 11/30\n",
      "81/81 [==============================] - 13s 149ms/step - loss: 0.7285 - accuracy: 0.7197 - val_loss: 0.7583 - val_accuracy: 0.7335\n",
      "Epoch 12/30\n",
      "81/81 [==============================] - 13s 147ms/step - loss: 0.7024 - accuracy: 0.7402 - val_loss: 0.8884 - val_accuracy: 0.6721\n",
      "Epoch 13/30\n",
      "81/81 [==============================] - 13s 150ms/step - loss: 0.6697 - accuracy: 0.7440 - val_loss: 0.7469 - val_accuracy: 0.7289\n",
      "Epoch 14/30\n",
      "81/81 [==============================] - 13s 148ms/step - loss: 0.6649 - accuracy: 0.7525 - val_loss: 0.6868 - val_accuracy: 0.7358\n",
      "Epoch 15/30\n",
      "81/81 [==============================] - 13s 147ms/step - loss: 0.6403 - accuracy: 0.7591 - val_loss: 0.8591 - val_accuracy: 0.7057\n",
      "Epoch 16/30\n",
      "81/81 [==============================] - 13s 147ms/step - loss: 0.6148 - accuracy: 0.7703 - val_loss: 1.1735 - val_accuracy: 0.6350\n",
      "Epoch 17/30\n",
      "81/81 [==============================] - 13s 148ms/step - loss: 0.6052 - accuracy: 0.7683 - val_loss: 0.8041 - val_accuracy: 0.7207\n",
      "Epoch 18/30\n",
      "81/81 [==============================] - 13s 147ms/step - loss: 0.5700 - accuracy: 0.7822 - val_loss: 0.7058 - val_accuracy: 0.7451\n",
      "Epoch 19/30\n",
      "81/81 [==============================] - 13s 148ms/step - loss: 0.5715 - accuracy: 0.7830 - val_loss: 0.6789 - val_accuracy: 0.7486\n",
      "Epoch 20/30\n",
      "81/81 [==============================] - 13s 147ms/step - loss: 0.5352 - accuracy: 0.8112 - val_loss: 0.7143 - val_accuracy: 0.7323\n",
      "Epoch 21/30\n",
      "81/81 [==============================] - 13s 150ms/step - loss: 0.5297 - accuracy: 0.7992 - val_loss: 0.7393 - val_accuracy: 0.7416\n",
      "Epoch 22/30\n",
      "81/81 [==============================] - 13s 147ms/step - loss: 0.5213 - accuracy: 0.8093 - val_loss: 0.7960 - val_accuracy: 0.7346\n",
      "Epoch 23/30\n",
      "81/81 [==============================] - 13s 146ms/step - loss: 0.5066 - accuracy: 0.8097 - val_loss: 0.7176 - val_accuracy: 0.7486\n",
      "Epoch 24/30\n",
      "81/81 [==============================] - 13s 149ms/step - loss: 0.4932 - accuracy: 0.8147 - val_loss: 0.8378 - val_accuracy: 0.7231\n",
      "Epoch 25/30\n",
      "81/81 [==============================] - 12s 146ms/step - loss: 0.4748 - accuracy: 0.8178 - val_loss: 0.8328 - val_accuracy: 0.7335\n",
      "Epoch 26/30\n",
      "81/81 [==============================] - 13s 147ms/step - loss: 0.4562 - accuracy: 0.8301 - val_loss: 0.7529 - val_accuracy: 0.7613\n",
      "Epoch 27/30\n",
      "81/81 [==============================] - 13s 149ms/step - loss: 0.4505 - accuracy: 0.8247 - val_loss: 0.7694 - val_accuracy: 0.7486\n",
      "Epoch 28/30\n",
      "81/81 [==============================] - 13s 147ms/step - loss: 0.4356 - accuracy: 0.8344 - val_loss: 0.7815 - val_accuracy: 0.7462\n",
      "Epoch 29/30\n",
      "81/81 [==============================] - 13s 146ms/step - loss: 0.4297 - accuracy: 0.8344 - val_loss: 0.8034 - val_accuracy: 0.7439\n",
      "Epoch 30/30\n",
      "81/81 [==============================] - 13s 148ms/step - loss: 0.4014 - accuracy: 0.8463 - val_loss: 0.8971 - val_accuracy: 0.7231\n"
     ]
    }
   ],
   "source": [
    "# Write your code here\n",
    "# Write your fitting code here\n",
    "history = model.fit(\n",
    "    train_dataset,\n",
    "    epochs=30,\n",
    "    validation_data=validation_dataset,\n",
    "    callbacks=callbacks) "
   ]
  },
  {
   "cell_type": "markdown",
   "metadata": {
    "id": "RBqMNJm38e20"
   },
   "source": [
    "### Analyzing the fitting performance over epochs"
   ]
  },
  {
   "cell_type": "markdown",
   "metadata": {
    "id": "McN1-wVi8e20"
   },
   "source": [
    "Show the training accuracy along with the epochs"
   ]
  },
  {
   "cell_type": "code",
   "execution_count": null,
   "metadata": {
    "colab": {
     "base_uri": "https://localhost:8080/",
     "height": 545
    },
    "executionInfo": {
     "elapsed": 705,
     "status": "ok",
     "timestamp": 1638782907206,
     "user": {
      "displayName": "marcus.ascard@hotmail.com",
      "photoUrl": "https://lh3.googleusercontent.com/a/default-user=s64",
      "userId": "03115809186989619152"
     },
     "user_tz": -60
    },
    "id": "6Df9iy948e20",
    "outputId": "458f9c23-b4b0-4366-f378-898cb209af45"
   },
   "outputs": [
    {
     "data": {
      "image/png": "[encoded data removed]",
      "text/plain": [
       "<Figure size 432x288 with 1 Axes>"
      ]
     },
     "metadata": {
      "needs_background": "light"
     },
     "output_type": "display_data"
    },
    {
     "data": {
      "image/png": "[encoded data removed]",
      "text/plain": [
       "<Figure size 432x288 with 1 Axes>"
      ]
     },
     "metadata": {
      "needs_background": "light"
     },
     "output_type": "display_data"
    }
   ],
   "source": [
    "# Write your code here\n",
    "# Write your code here  \n",
    "\n",
    "accuracy = history.history[\"accuracy\"]\n",
    "val_accuracy = history.history[\"val_accuracy\"]\n",
    "loss = history.history[\"loss\"]\n",
    "val_loss = history.history[\"val_loss\"]\n",
    "epochs = range(1, len(accuracy) + 1)\n",
    "plt.plot(epochs, accuracy, \"bo\", label=\"Training accuracy\")\n",
    "plt.plot(epochs, val_accuracy, \"b\", label=\"Validation accuracy\")\n",
    "plt.title(\"Training and validation accuracy\")\n",
    "plt.legend()\n",
    "plt.figure()\n",
    "plt.plot(epochs, loss, \"bo\", label=\"Training loss\")\n",
    "plt.plot(epochs, val_loss, \"b\", label=\"Validation loss\")\n",
    "plt.title(\"Training and validation loss\")\n",
    "plt.legend()\n",
    "plt.show()"
   ]
  },
  {
   "cell_type": "markdown",
   "metadata": {
    "id": "oySjdtIc8e20"
   },
   "source": [
    "### Predicting the test set"
   ]
  },
  {
   "cell_type": "markdown",
   "metadata": {
    "id": "exjF54uy8e20"
   },
   "source": [
    "Load your best model"
   ]
  },
  {
   "cell_type": "code",
   "execution_count": null,
   "metadata": {
    "id": "UD04lTIO8e20"
   },
   "outputs": [],
   "source": [
    "# Write your code here\n",
    "test_model = keras.models.load_model(\"convnet_from_scratch.keras\")"
   ]
  },
  {
   "cell_type": "markdown",
   "metadata": {
    "id": "CKtqAphm8e20"
   },
   "source": [
    "Finally, run a model evaluation and store the loss and accuracy in the `test_loss_2` and `test_acc_2` variables."
   ]
  },
  {
   "cell_type": "code",
   "execution_count": null,
   "metadata": {
    "colab": {
     "base_uri": "https://localhost:8080/"
    },
    "executionInfo": {
     "elapsed": 3142,
     "status": "ok",
     "timestamp": 1638782918612,
     "user": {
      "displayName": "marcus.ascard@hotmail.com",
      "photoUrl": "https://lh3.googleusercontent.com/a/default-user=s64",
      "userId": "03115809186989619152"
     },
     "user_tz": -60
    },
    "id": "s_6hkfMu8e21",
    "outputId": "2d92b1f5-a432-4bde-eb36-67990d97301f"
   },
   "outputs": [
    {
     "name": "stdout",
     "output_type": "stream",
     "text": [
      "27/27 [==============================] - 3s 86ms/step - loss: 0.7252 - accuracy: 0.7488\n",
      "Test accuracy: 0.749\n",
      "Test loss: 0.725\n"
     ]
    }
   ],
   "source": [
    "# Write your code here \n",
    "test_loss_2, test_acc_2 = test_model.evaluate(test_dataset)\n",
    "print(f\"Test accuracy: {test_acc_2:.3f}\") \n",
    "print(f\"Test loss: {test_loss_2:.3f}\") "
   ]
  },
  {
   "cell_type": "code",
   "execution_count": null,
   "metadata": {
    "colab": {
     "base_uri": "https://localhost:8080/"
    },
    "executionInfo": {
     "elapsed": 195,
     "status": "ok",
     "timestamp": 1638782924916,
     "user": {
      "displayName": "marcus.ascard@hotmail.com",
      "photoUrl": "https://lh3.googleusercontent.com/a/default-user=s64",
      "userId": "03115809186989619152"
     },
     "user_tz": -60
    },
    "id": "ERjfhWqE8e21",
    "outputId": "64d1fa7a-4a58-42de-f39c-e56ccdc37418"
   },
   "outputs": [
    {
     "data": {
      "text/plain": [
       "(0.7251628041267395, 0.7488425970077515)"
      ]
     },
     "execution_count": 34,
     "metadata": {},
     "output_type": "execute_result"
    }
   ],
   "source": [
    "test_loss_2, test_acc_2 "
   ]
  },
  {
   "cell_type": "markdown",
   "metadata": {
    "id": "FpHrtTq48e21"
   },
   "source": [
    "## Using a Pretrained Convolutional Base"
   ]
  },
  {
   "cell_type": "markdown",
   "metadata": {
    "id": "2qPZ6Vr38e21"
   },
   "source": [
    "### Architecture"
   ]
  },
  {
   "cell_type": "markdown",
   "metadata": {
    "id": "BK_aq3yQ8e21"
   },
   "source": [
    "Some research teams have trained convolutional neural networks on much larger datasets. We have seen during the lecture that the networks can model conceptual patterns as they go through the layers. This was identified by Le Cun in his first experiments [http://yann.lecun.com/exdb/lenet/](http://yann.lecun.com/exdb/lenet/). In this last part, you will train classifiers on top of a pretrained convolutional base.\n",
    "1. Train your network and report the training and validation losses and accuracies.\n",
    "2. Apply your network to the test set and report the accuracy as well as the confusion matrix you obtained."
   ]
  },
  {
   "cell_type": "code",
   "execution_count": null,
   "metadata": {
    "id": "gtbVLKG48e21"
   },
   "outputs": [],
   "source": [
    "from keras.applications.vgg16 import VGG16\n",
    "from keras.applications.inception_v3 import InceptionV3"
   ]
  },
  {
   "cell_type": "markdown",
   "metadata": {
    "id": "yyz8LQ_A8e22"
   },
   "source": [
    "As in Chollet, Listing 8.20 (in Chollet's notebook 08), you will program a `get_features_and_labels()` function."
   ]
  },
  {
   "cell_type": "code",
   "execution_count": null,
   "metadata": {
    "colab": {
     "base_uri": "https://localhost:8080/"
    },
    "executionInfo": {
     "elapsed": 6905,
     "status": "ok",
     "timestamp": 1639236929909,
     "user": {
      "displayName": "marcus.ascard@hotmail.com",
      "photoUrl": "https://lh3.googleusercontent.com/a/default-user=s64",
      "userId": "03115809186989619152"
     },
     "user_tz": -60
    },
    "id": "YWpCjlcr8e21",
    "outputId": "4a579327-b317-4564-ab0a-3b58c00dae88"
   },
   "outputs": [
    {
     "name": "stdout",
     "output_type": "stream",
     "text": [
      "Downloading data from https://storage.googleapis.com/tensorflow/keras-applications/inception_v3/inception_v3_weights_tf_dim_ordering_tf_kernels_notop.h5\n",
      "87916544/87910968 [==============================] - 1s 0us/step\n",
      "87924736/87910968 [==============================] - 1s 0us/step\n",
      "Model: \"inception_v3\"\n",
      "__________________________________________________________________________________________________\n",
      " Layer (type)                   Output Shape         Param #     Connected to                     \n",
      "==================================================================================================\n",
      " input_1 (InputLayer)           [(None, 180, 180, 3  0           []                               \n",
      "                                )]                                                                \n",
      "                                                                                                  \n",
      " conv2d (Conv2D)                (None, 89, 89, 32)   864         ['input_1[0][0]']                \n",
      "                                                                                                  \n",
      " batch_normalization (BatchNorm  (None, 89, 89, 32)  96          ['conv2d[0][0]']                 \n",
      " alization)                                                                                       \n",
      "                                                                                                  \n",
      " activation (Activation)        (None, 89, 89, 32)   0           ['batch_normalization[0][0]']    \n",
      "                                                                                                  \n",
      " conv2d_1 (Conv2D)              (None, 87, 87, 32)   9216        ['activation[0][0]']             \n",
      "                                                                                                  \n",
      " batch_normalization_1 (BatchNo  (None, 87, 87, 32)  96          ['conv2d_1[0][0]']               \n",
      " rmalization)                                                                                     \n",
      "                                                                                                  \n",
      " activation_1 (Activation)      (None, 87, 87, 32)   0           ['batch_normalization_1[0][0]']  \n",
      "                                                                                                  \n",
      " conv2d_2 (Conv2D)              (None, 87, 87, 64)   18432       ['activation_1[0][0]']           \n",
      "                                                                                                  \n",
      " batch_normalization_2 (BatchNo  (None, 87, 87, 64)  192         ['conv2d_2[0][0]']               \n",
      " rmalization)                                                                                     \n",
      "                                                                                                  \n",
      " activation_2 (Activation)      (None, 87, 87, 64)   0           ['batch_normalization_2[0][0]']  \n",
      "                                                                                                  \n",
      " max_pooling2d (MaxPooling2D)   (None, 43, 43, 64)   0           ['activation_2[0][0]']           \n",
      "                                                                                                  \n",
      " conv2d_3 (Conv2D)              (None, 43, 43, 80)   5120        ['max_pooling2d[0][0]']          \n",
      "                                                                                                  \n",
      " batch_normalization_3 (BatchNo  (None, 43, 43, 80)  240         ['conv2d_3[0][0]']               \n",
      " rmalization)                                                                                     \n",
      "                                                                                                  \n",
      " activation_3 (Activation)      (None, 43, 43, 80)   0           ['batch_normalization_3[0][0]']  \n",
      "                                                                                                  \n",
      " conv2d_4 (Conv2D)              (None, 41, 41, 192)  138240      ['activation_3[0][0]']           \n",
      "                                                                                                  \n",
      " batch_normalization_4 (BatchNo  (None, 41, 41, 192)  576        ['conv2d_4[0][0]']               \n",
      " rmalization)                                                                                     \n",
      "                                                                                                  \n",
      " activation_4 (Activation)      (None, 41, 41, 192)  0           ['batch_normalization_4[0][0]']  \n",
      "                                                                                                  \n",
      " max_pooling2d_1 (MaxPooling2D)  (None, 20, 20, 192)  0          ['activation_4[0][0]']           \n",
      "                                                                                                  \n",
      " conv2d_8 (Conv2D)              (None, 20, 20, 64)   12288       ['max_pooling2d_1[0][0]']        \n",
      "                                                                                                  \n",
      " batch_normalization_8 (BatchNo  (None, 20, 20, 64)  192         ['conv2d_8[0][0]']               \n",
      " rmalization)                                                                                     \n",
      "                                                                                                  \n",
      " activation_8 (Activation)      (None, 20, 20, 64)   0           ['batch_normalization_8[0][0]']  \n",
      "                                                                                                  \n",
      " conv2d_6 (Conv2D)              (None, 20, 20, 48)   9216        ['max_pooling2d_1[0][0]']        \n",
      "                                                                                                  \n",
      " conv2d_9 (Conv2D)              (None, 20, 20, 96)   55296       ['activation_8[0][0]']           \n",
      "                                                                                                  \n",
      " batch_normalization_6 (BatchNo  (None, 20, 20, 48)  144         ['conv2d_6[0][0]']               \n",
      " rmalization)                                                                                     \n",
      "                                                                                                  \n",
      " batch_normalization_9 (BatchNo  (None, 20, 20, 96)  288         ['conv2d_9[0][0]']               \n",
      " rmalization)                                                                                     \n",
      "                                                                                                  \n",
      " activation_6 (Activation)      (None, 20, 20, 48)   0           ['batch_normalization_6[0][0]']  \n",
      "                                                                                                  \n",
      " activation_9 (Activation)      (None, 20, 20, 96)   0           ['batch_normalization_9[0][0]']  \n",
      "                                                                                                  \n",
      " average_pooling2d (AveragePool  (None, 20, 20, 192)  0          ['max_pooling2d_1[0][0]']        \n",
      " ing2D)                                                                                           \n",
      "                                                                                                  \n",
      " conv2d_5 (Conv2D)              (None, 20, 20, 64)   12288       ['max_pooling2d_1[0][0]']        \n",
      "                                                                                                  \n",
      " conv2d_7 (Conv2D)              (None, 20, 20, 64)   76800       ['activation_6[0][0]']           \n",
      "                                                                                                  \n",
      " conv2d_10 (Conv2D)             (None, 20, 20, 96)   82944       ['activation_9[0][0]']           \n",
      "                                                                                                  \n",
      " conv2d_11 (Conv2D)             (None, 20, 20, 32)   6144        ['average_pooling2d[0][0]']      \n",
      "                                                                                                  \n",
      " batch_normalization_5 (BatchNo  (None, 20, 20, 64)  192         ['conv2d_5[0][0]']               \n",
      " rmalization)                                                                                     \n",
      "                                                                                                  \n",
      " batch_normalization_7 (BatchNo  (None, 20, 20, 64)  192         ['conv2d_7[0][0]']               \n",
      " rmalization)                                                                                     \n",
      "                                                                                                  \n",
      " batch_normalization_10 (BatchN  (None, 20, 20, 96)  288         ['conv2d_10[0][0]']              \n",
      " ormalization)                                                                                    \n",
      "                                                                                                  \n",
      " batch_normalization_11 (BatchN  (None, 20, 20, 32)  96          ['conv2d_11[0][0]']              \n",
      " ormalization)                                                                                    \n",
      "                                                                                                  \n",
      " activation_5 (Activation)      (None, 20, 20, 64)   0           ['batch_normalization_5[0][0]']  \n",
      "                                                                                                  \n",
      " activation_7 (Activation)      (None, 20, 20, 64)   0           ['batch_normalization_7[0][0]']  \n",
      "                                                                                                  \n",
      " activation_10 (Activation)     (None, 20, 20, 96)   0           ['batch_normalization_10[0][0]'] \n",
      "                                                                                                  \n",
      " activation_11 (Activation)     (None, 20, 20, 32)   0           ['batch_normalization_11[0][0]'] \n",
      "                                                                                                  \n",
      " mixed0 (Concatenate)           (None, 20, 20, 256)  0           ['activation_5[0][0]',           \n",
      "                                                                  'activation_7[0][0]',           \n",
      "                                                                  'activation_10[0][0]',          \n",
      "                                                                  'activation_11[0][0]']          \n",
      "                                                                                                  \n",
      " conv2d_15 (Conv2D)             (None, 20, 20, 64)   16384       ['mixed0[0][0]']                 \n",
      "                                                                                                  \n",
      " batch_normalization_15 (BatchN  (None, 20, 20, 64)  192         ['conv2d_15[0][0]']              \n",
      " ormalization)                                                                                    \n",
      "                                                                                                  \n",
      " activation_15 (Activation)     (None, 20, 20, 64)   0           ['batch_normalization_15[0][0]'] \n",
      "                                                                                                  \n",
      " conv2d_13 (Conv2D)             (None, 20, 20, 48)   12288       ['mixed0[0][0]']                 \n",
      "                                                                                                  \n",
      " conv2d_16 (Conv2D)             (None, 20, 20, 96)   55296       ['activation_15[0][0]']          \n",
      "                                                                                                  \n",
      " batch_normalization_13 (BatchN  (None, 20, 20, 48)  144         ['conv2d_13[0][0]']              \n",
      " ormalization)                                                                                    \n",
      "                                                                                                  \n",
      " batch_normalization_16 (BatchN  (None, 20, 20, 96)  288         ['conv2d_16[0][0]']              \n",
      " ormalization)                                                                                    \n",
      "                                                                                                  \n",
      " activation_13 (Activation)     (None, 20, 20, 48)   0           ['batch_normalization_13[0][0]'] \n",
      "                                                                                                  \n",
      " activation_16 (Activation)     (None, 20, 20, 96)   0           ['batch_normalization_16[0][0]'] \n",
      "                                                                                                  \n",
      " average_pooling2d_1 (AveragePo  (None, 20, 20, 256)  0          ['mixed0[0][0]']                 \n",
      " oling2D)                                                                                         \n",
      "                                                                                                  \n",
      " conv2d_12 (Conv2D)             (None, 20, 20, 64)   16384       ['mixed0[0][0]']                 \n",
      "                                                                                                  \n",
      " conv2d_14 (Conv2D)             (None, 20, 20, 64)   76800       ['activation_13[0][0]']          \n",
      "                                                                                                  \n",
      " conv2d_17 (Conv2D)             (None, 20, 20, 96)   82944       ['activation_16[0][0]']          \n",
      "                                                                                                  \n",
      " conv2d_18 (Conv2D)             (None, 20, 20, 64)   16384       ['average_pooling2d_1[0][0]']    \n",
      "                                                                                                  \n",
      " batch_normalization_12 (BatchN  (None, 20, 20, 64)  192         ['conv2d_12[0][0]']              \n",
      " ormalization)                                                                                    \n",
      "                                                                                                  \n",
      " batch_normalization_14 (BatchN  (None, 20, 20, 64)  192         ['conv2d_14[0][0]']              \n",
      " ormalization)                                                                                    \n",
      "                                                                                                  \n",
      " batch_normalization_17 (BatchN  (None, 20, 20, 96)  288         ['conv2d_17[0][0]']              \n",
      " ormalization)                                                                                    \n",
      "                                                                                                  \n",
      " batch_normalization_18 (BatchN  (None, 20, 20, 64)  192         ['conv2d_18[0][0]']              \n",
      " ormalization)                                                                                    \n",
      "                                                                                                  \n",
      " activation_12 (Activation)     (None, 20, 20, 64)   0           ['batch_normalization_12[0][0]'] \n",
      "                                                                                                  \n",
      " activation_14 (Activation)     (None, 20, 20, 64)   0           ['batch_normalization_14[0][0]'] \n",
      "                                                                                                  \n",
      " activation_17 (Activation)     (None, 20, 20, 96)   0           ['batch_normalization_17[0][0]'] \n",
      "                                                                                                  \n",
      " activation_18 (Activation)     (None, 20, 20, 64)   0           ['batch_normalization_18[0][0]'] \n",
      "                                                                                                  \n",
      " mixed1 (Concatenate)           (None, 20, 20, 288)  0           ['activation_12[0][0]',          \n",
      "                                                                  'activation_14[0][0]',          \n",
      "                                                                  'activation_17[0][0]',          \n",
      "                                                                  'activation_18[0][0]']          \n",
      "                                                                                                  \n",
      " conv2d_22 (Conv2D)             (None, 20, 20, 64)   18432       ['mixed1[0][0]']                 \n",
      "                                                                                                  \n",
      " batch_normalization_22 (BatchN  (None, 20, 20, 64)  192         ['conv2d_22[0][0]']              \n",
      " ormalization)                                                                                    \n",
      "                                                                                                  \n",
      " activation_22 (Activation)     (None, 20, 20, 64)   0           ['batch_normalization_22[0][0]'] \n",
      "                                                                                                  \n",
      " conv2d_20 (Conv2D)             (None, 20, 20, 48)   13824       ['mixed1[0][0]']                 \n",
      "                                                                                                  \n",
      " conv2d_23 (Conv2D)             (None, 20, 20, 96)   55296       ['activation_22[0][0]']          \n",
      "                                                                                                  \n",
      " batch_normalization_20 (BatchN  (None, 20, 20, 48)  144         ['conv2d_20[0][0]']              \n",
      " ormalization)                                                                                    \n",
      "                                                                                                  \n",
      " batch_normalization_23 (BatchN  (None, 20, 20, 96)  288         ['conv2d_23[0][0]']              \n",
      " ormalization)                                                                                    \n",
      "                                                                                                  \n",
      " activation_20 (Activation)     (None, 20, 20, 48)   0           ['batch_normalization_20[0][0]'] \n",
      "                                                                                                  \n",
      " activation_23 (Activation)     (None, 20, 20, 96)   0           ['batch_normalization_23[0][0]'] \n",
      "                                                                                                  \n",
      " average_pooling2d_2 (AveragePo  (None, 20, 20, 288)  0          ['mixed1[0][0]']                 \n",
      " oling2D)                                                                                         \n",
      "                                                                                                  \n",
      " conv2d_19 (Conv2D)             (None, 20, 20, 64)   18432       ['mixed1[0][0]']                 \n",
      "                                                                                                  \n",
      " conv2d_21 (Conv2D)             (None, 20, 20, 64)   76800       ['activation_20[0][0]']          \n",
      "                                                                                                  \n",
      " conv2d_24 (Conv2D)             (None, 20, 20, 96)   82944       ['activation_23[0][0]']          \n",
      "                                                                                                  \n",
      " conv2d_25 (Conv2D)             (None, 20, 20, 64)   18432       ['average_pooling2d_2[0][0]']    \n",
      "                                                                                                  \n",
      " batch_normalization_19 (BatchN  (None, 20, 20, 64)  192         ['conv2d_19[0][0]']              \n",
      " ormalization)                                                                                    \n",
      "                                                                                                  \n",
      " batch_normalization_21 (BatchN  (None, 20, 20, 64)  192         ['conv2d_21[0][0]']              \n",
      " ormalization)                                                                                    \n",
      "                                                                                                  \n",
      " batch_normalization_24 (BatchN  (None, 20, 20, 96)  288         ['conv2d_24[0][0]']              \n",
      " ormalization)                                                                                    \n",
      "                                                                                                  \n",
      " batch_normalization_25 (BatchN  (None, 20, 20, 64)  192         ['conv2d_25[0][0]']              \n",
      " ormalization)                                                                                    \n",
      "                                                                                                  \n",
      " activation_19 (Activation)     (None, 20, 20, 64)   0           ['batch_normalization_19[0][0]'] \n",
      "                                                                                                  \n",
      " activation_21 (Activation)     (None, 20, 20, 64)   0           ['batch_normalization_21[0][0]'] \n",
      "                                                                                                  \n",
      " activation_24 (Activation)     (None, 20, 20, 96)   0           ['batch_normalization_24[0][0]'] \n",
      "                                                                                                  \n",
      " activation_25 (Activation)     (None, 20, 20, 64)   0           ['batch_normalization_25[0][0]'] \n",
      "                                                                                                  \n",
      " mixed2 (Concatenate)           (None, 20, 20, 288)  0           ['activation_19[0][0]',          \n",
      "                                                                  'activation_21[0][0]',          \n",
      "                                                                  'activation_24[0][0]',          \n",
      "                                                                  'activation_25[0][0]']          \n",
      "                                                                                                  \n",
      " conv2d_27 (Conv2D)             (None, 20, 20, 64)   18432       ['mixed2[0][0]']                 \n",
      "                                                                                                  \n",
      " batch_normalization_27 (BatchN  (None, 20, 20, 64)  192         ['conv2d_27[0][0]']              \n",
      " ormalization)                                                                                    \n",
      "                                                                                                  \n",
      " activation_27 (Activation)     (None, 20, 20, 64)   0           ['batch_normalization_27[0][0]'] \n",
      "                                                                                                  \n",
      " conv2d_28 (Conv2D)             (None, 20, 20, 96)   55296       ['activation_27[0][0]']          \n",
      "                                                                                                  \n",
      " batch_normalization_28 (BatchN  (None, 20, 20, 96)  288         ['conv2d_28[0][0]']              \n",
      " ormalization)                                                                                    \n",
      "                                                                                                  \n",
      " activation_28 (Activation)     (None, 20, 20, 96)   0           ['batch_normalization_28[0][0]'] \n",
      "                                                                                                  \n",
      " conv2d_26 (Conv2D)             (None, 9, 9, 384)    995328      ['mixed2[0][0]']                 \n",
      "                                                                                                  \n",
      " conv2d_29 (Conv2D)             (None, 9, 9, 96)     82944       ['activation_28[0][0]']          \n",
      "                                                                                                  \n",
      " batch_normalization_26 (BatchN  (None, 9, 9, 384)   1152        ['conv2d_26[0][0]']              \n",
      " ormalization)                                                                                    \n",
      "                                                                                                  \n",
      " batch_normalization_29 (BatchN  (None, 9, 9, 96)    288         ['conv2d_29[0][0]']              \n",
      " ormalization)                                                                                    \n",
      "                                                                                                  \n",
      " activation_26 (Activation)     (None, 9, 9, 384)    0           ['batch_normalization_26[0][0]'] \n",
      "                                                                                                  \n",
      " activation_29 (Activation)     (None, 9, 9, 96)     0           ['batch_normalization_29[0][0]'] \n",
      "                                                                                                  \n",
      " max_pooling2d_2 (MaxPooling2D)  (None, 9, 9, 288)   0           ['mixed2[0][0]']                 \n",
      "                                                                                                  \n",
      " mixed3 (Concatenate)           (None, 9, 9, 768)    0           ['activation_26[0][0]',          \n",
      "                                                                  'activation_29[0][0]',          \n",
      "                                                                  'max_pooling2d_2[0][0]']        \n",
      "                                                                                                  \n",
      " conv2d_34 (Conv2D)             (None, 9, 9, 128)    98304       ['mixed3[0][0]']                 \n",
      "                                                                                                  \n",
      " batch_normalization_34 (BatchN  (None, 9, 9, 128)   384         ['conv2d_34[0][0]']              \n",
      " ormalization)                                                                                    \n",
      "                                                                                                  \n",
      " activation_34 (Activation)     (None, 9, 9, 128)    0           ['batch_normalization_34[0][0]'] \n",
      "                                                                                                  \n",
      " conv2d_35 (Conv2D)             (None, 9, 9, 128)    114688      ['activation_34[0][0]']          \n",
      "                                                                                                  \n",
      " batch_normalization_35 (BatchN  (None, 9, 9, 128)   384         ['conv2d_35[0][0]']              \n",
      " ormalization)                                                                                    \n",
      "                                                                                                  \n",
      " activation_35 (Activation)     (None, 9, 9, 128)    0           ['batch_normalization_35[0][0]'] \n",
      "                                                                                                  \n",
      " conv2d_31 (Conv2D)             (None, 9, 9, 128)    98304       ['mixed3[0][0]']                 \n",
      "                                                                                                  \n",
      " conv2d_36 (Conv2D)             (None, 9, 9, 128)    114688      ['activation_35[0][0]']          \n",
      "                                                                                                  \n",
      " batch_normalization_31 (BatchN  (None, 9, 9, 128)   384         ['conv2d_31[0][0]']              \n",
      " ormalization)                                                                                    \n",
      "                                                                                                  \n",
      " batch_normalization_36 (BatchN  (None, 9, 9, 128)   384         ['conv2d_36[0][0]']              \n",
      " ormalization)                                                                                    \n",
      "                                                                                                  \n",
      " activation_31 (Activation)     (None, 9, 9, 128)    0           ['batch_normalization_31[0][0]'] \n",
      "                                                                                                  \n",
      " activation_36 (Activation)     (None, 9, 9, 128)    0           ['batch_normalization_36[0][0]'] \n",
      "                                                                                                  \n",
      " conv2d_32 (Conv2D)             (None, 9, 9, 128)    114688      ['activation_31[0][0]']          \n",
      "                                                                                                  \n",
      " conv2d_37 (Conv2D)             (None, 9, 9, 128)    114688      ['activation_36[0][0]']          \n",
      "                                                                                                  \n",
      " batch_normalization_32 (BatchN  (None, 9, 9, 128)   384         ['conv2d_32[0][0]']              \n",
      " ormalization)                                                                                    \n",
      "                                                                                                  \n",
      " batch_normalization_37 (BatchN  (None, 9, 9, 128)   384         ['conv2d_37[0][0]']              \n",
      " ormalization)                                                                                    \n",
      "                                                                                                  \n",
      " activation_32 (Activation)     (None, 9, 9, 128)    0           ['batch_normalization_32[0][0]'] \n",
      "                                                                                                  \n",
      " activation_37 (Activation)     (None, 9, 9, 128)    0           ['batch_normalization_37[0][0]'] \n",
      "                                                                                                  \n",
      " average_pooling2d_3 (AveragePo  (None, 9, 9, 768)   0           ['mixed3[0][0]']                 \n",
      " oling2D)                                                                                         \n",
      "                                                                                                  \n",
      " conv2d_30 (Conv2D)             (None, 9, 9, 192)    147456      ['mixed3[0][0]']                 \n",
      "                                                                                                  \n",
      " conv2d_33 (Conv2D)             (None, 9, 9, 192)    172032      ['activation_32[0][0]']          \n",
      "                                                                                                  \n",
      " conv2d_38 (Conv2D)             (None, 9, 9, 192)    172032      ['activation_37[0][0]']          \n",
      "                                                                                                  \n",
      " conv2d_39 (Conv2D)             (None, 9, 9, 192)    147456      ['average_pooling2d_3[0][0]']    \n",
      "                                                                                                  \n",
      " batch_normalization_30 (BatchN  (None, 9, 9, 192)   576         ['conv2d_30[0][0]']              \n",
      " ormalization)                                                                                    \n",
      "                                                                                                  \n",
      " batch_normalization_33 (BatchN  (None, 9, 9, 192)   576         ['conv2d_33[0][0]']              \n",
      " ormalization)                                                                                    \n",
      "                                                                                                  \n",
      " batch_normalization_38 (BatchN  (None, 9, 9, 192)   576         ['conv2d_38[0][0]']              \n",
      " ormalization)                                                                                    \n",
      "                                                                                                  \n",
      " batch_normalization_39 (BatchN  (None, 9, 9, 192)   576         ['conv2d_39[0][0]']              \n",
      " ormalization)                                                                                    \n",
      "                                                                                                  \n",
      " activation_30 (Activation)     (None, 9, 9, 192)    0           ['batch_normalization_30[0][0]'] \n",
      "                                                                                                  \n",
      " activation_33 (Activation)     (None, 9, 9, 192)    0           ['batch_normalization_33[0][0]'] \n",
      "                                                                                                  \n",
      " activation_38 (Activation)     (None, 9, 9, 192)    0           ['batch_normalization_38[0][0]'] \n",
      "                                                                                                  \n",
      " activation_39 (Activation)     (None, 9, 9, 192)    0           ['batch_normalization_39[0][0]'] \n",
      "                                                                                                  \n",
      " mixed4 (Concatenate)           (None, 9, 9, 768)    0           ['activation_30[0][0]',          \n",
      "                                                                  'activation_33[0][0]',          \n",
      "                                                                  'activation_38[0][0]',          \n",
      "                                                                  'activation_39[0][0]']          \n",
      "                                                                                                  \n",
      " conv2d_44 (Conv2D)             (None, 9, 9, 160)    122880      ['mixed4[0][0]']                 \n",
      "                                                                                                  \n",
      " batch_normalization_44 (BatchN  (None, 9, 9, 160)   480         ['conv2d_44[0][0]']              \n",
      " ormalization)                                                                                    \n",
      "                                                                                                  \n",
      " activation_44 (Activation)     (None, 9, 9, 160)    0           ['batch_normalization_44[0][0]'] \n",
      "                                                                                                  \n",
      " conv2d_45 (Conv2D)             (None, 9, 9, 160)    179200      ['activation_44[0][0]']          \n",
      "                                                                                                  \n",
      " batch_normalization_45 (BatchN  (None, 9, 9, 160)   480         ['conv2d_45[0][0]']              \n",
      " ormalization)                                                                                    \n",
      "                                                                                                  \n",
      " activation_45 (Activation)     (None, 9, 9, 160)    0           ['batch_normalization_45[0][0]'] \n",
      "                                                                                                  \n",
      " conv2d_41 (Conv2D)             (None, 9, 9, 160)    122880      ['mixed4[0][0]']                 \n",
      "                                                                                                  \n",
      " conv2d_46 (Conv2D)             (None, 9, 9, 160)    179200      ['activation_45[0][0]']          \n",
      "                                                                                                  \n",
      " batch_normalization_41 (BatchN  (None, 9, 9, 160)   480         ['conv2d_41[0][0]']              \n",
      " ormalization)                                                                                    \n",
      "                                                                                                  \n",
      " batch_normalization_46 (BatchN  (None, 9, 9, 160)   480         ['conv2d_46[0][0]']              \n",
      " ormalization)                                                                                    \n",
      "                                                                                                  \n",
      " activation_41 (Activation)     (None, 9, 9, 160)    0           ['batch_normalization_41[0][0]'] \n",
      "                                                                                                  \n",
      " activation_46 (Activation)     (None, 9, 9, 160)    0           ['batch_normalization_46[0][0]'] \n",
      "                                                                                                  \n",
      " conv2d_42 (Conv2D)             (None, 9, 9, 160)    179200      ['activation_41[0][0]']          \n",
      "                                                                                                  \n",
      " conv2d_47 (Conv2D)             (None, 9, 9, 160)    179200      ['activation_46[0][0]']          \n",
      "                                                                                                  \n",
      " batch_normalization_42 (BatchN  (None, 9, 9, 160)   480         ['conv2d_42[0][0]']              \n",
      " ormalization)                                                                                    \n",
      "                                                                                                  \n",
      " batch_normalization_47 (BatchN  (None, 9, 9, 160)   480         ['conv2d_47[0][0]']              \n",
      " ormalization)                                                                                    \n",
      "                                                                                                  \n",
      " activation_42 (Activation)     (None, 9, 9, 160)    0           ['batch_normalization_42[0][0]'] \n",
      "                                                                                                  \n",
      " activation_47 (Activation)     (None, 9, 9, 160)    0           ['batch_normalization_47[0][0]'] \n",
      "                                                                                                  \n",
      " average_pooling2d_4 (AveragePo  (None, 9, 9, 768)   0           ['mixed4[0][0]']                 \n",
      " oling2D)                                                                                         \n",
      "                                                                                                  \n",
      " conv2d_40 (Conv2D)             (None, 9, 9, 192)    147456      ['mixed4[0][0]']                 \n",
      "                                                                                                  \n",
      " conv2d_43 (Conv2D)             (None, 9, 9, 192)    215040      ['activation_42[0][0]']          \n",
      "                                                                                                  \n",
      " conv2d_48 (Conv2D)             (None, 9, 9, 192)    215040      ['activation_47[0][0]']          \n",
      "                                                                                                  \n",
      " conv2d_49 (Conv2D)             (None, 9, 9, 192)    147456      ['average_pooling2d_4[0][0]']    \n",
      "                                                                                                  \n",
      " batch_normalization_40 (BatchN  (None, 9, 9, 192)   576         ['conv2d_40[0][0]']              \n",
      " ormalization)                                                                                    \n",
      "                                                                                                  \n",
      " batch_normalization_43 (BatchN  (None, 9, 9, 192)   576         ['conv2d_43[0][0]']              \n",
      " ormalization)                                                                                    \n",
      "                                                                                                  \n",
      " batch_normalization_48 (BatchN  (None, 9, 9, 192)   576         ['conv2d_48[0][0]']              \n",
      " ormalization)                                                                                    \n",
      "                                                                                                  \n",
      " batch_normalization_49 (BatchN  (None, 9, 9, 192)   576         ['conv2d_49[0][0]']              \n",
      " ormalization)                                                                                    \n",
      "                                                                                                  \n",
      " activation_40 (Activation)     (None, 9, 9, 192)    0           ['batch_normalization_40[0][0]'] \n",
      "                                                                                                  \n",
      " activation_43 (Activation)     (None, 9, 9, 192)    0           ['batch_normalization_43[0][0]'] \n",
      "                                                                                                  \n",
      " activation_48 (Activation)     (None, 9, 9, 192)    0           ['batch_normalization_48[0][0]'] \n",
      "                                                                                                  \n",
      " activation_49 (Activation)     (None, 9, 9, 192)    0           ['batch_normalization_49[0][0]'] \n",
      "                                                                                                  \n",
      " mixed5 (Concatenate)           (None, 9, 9, 768)    0           ['activation_40[0][0]',          \n",
      "                                                                  'activation_43[0][0]',          \n",
      "                                                                  'activation_48[0][0]',          \n",
      "                                                                  'activation_49[0][0]']          \n",
      "                                                                                                  \n",
      " conv2d_54 (Conv2D)             (None, 9, 9, 160)    122880      ['mixed5[0][0]']                 \n",
      "                                                                                                  \n",
      " batch_normalization_54 (BatchN  (None, 9, 9, 160)   480         ['conv2d_54[0][0]']              \n",
      " ormalization)                                                                                    \n",
      "                                                                                                  \n",
      " activation_54 (Activation)     (None, 9, 9, 160)    0           ['batch_normalization_54[0][0]'] \n",
      "                                                                                                  \n",
      " conv2d_55 (Conv2D)             (None, 9, 9, 160)    179200      ['activation_54[0][0]']          \n",
      "                                                                                                  \n",
      " batch_normalization_55 (BatchN  (None, 9, 9, 160)   480         ['conv2d_55[0][0]']              \n",
      " ormalization)                                                                                    \n",
      "                                                                                                  \n",
      " activation_55 (Activation)     (None, 9, 9, 160)    0           ['batch_normalization_55[0][0]'] \n",
      "                                                                                                  \n",
      " conv2d_51 (Conv2D)             (None, 9, 9, 160)    122880      ['mixed5[0][0]']                 \n",
      "                                                                                                  \n",
      " conv2d_56 (Conv2D)             (None, 9, 9, 160)    179200      ['activation_55[0][0]']          \n",
      "                                                                                                  \n",
      " batch_normalization_51 (BatchN  (None, 9, 9, 160)   480         ['conv2d_51[0][0]']              \n",
      " ormalization)                                                                                    \n",
      "                                                                                                  \n",
      " batch_normalization_56 (BatchN  (None, 9, 9, 160)   480         ['conv2d_56[0][0]']              \n",
      " ormalization)                                                                                    \n",
      "                                                                                                  \n",
      " activation_51 (Activation)     (None, 9, 9, 160)    0           ['batch_normalization_51[0][0]'] \n",
      "                                                                                                  \n",
      " activation_56 (Activation)     (None, 9, 9, 160)    0           ['batch_normalization_56[0][0]'] \n",
      "                                                                                                  \n",
      " conv2d_52 (Conv2D)             (None, 9, 9, 160)    179200      ['activation_51[0][0]']          \n",
      "                                                                                                  \n",
      " conv2d_57 (Conv2D)             (None, 9, 9, 160)    179200      ['activation_56[0][0]']          \n",
      "                                                                                                  \n",
      " batch_normalization_52 (BatchN  (None, 9, 9, 160)   480         ['conv2d_52[0][0]']              \n",
      " ormalization)                                                                                    \n",
      "                                                                                                  \n",
      " batch_normalization_57 (BatchN  (None, 9, 9, 160)   480         ['conv2d_57[0][0]']              \n",
      " ormalization)                                                                                    \n",
      "                                                                                                  \n",
      " activation_52 (Activation)     (None, 9, 9, 160)    0           ['batch_normalization_52[0][0]'] \n",
      "                                                                                                  \n",
      " activation_57 (Activation)     (None, 9, 9, 160)    0           ['batch_normalization_57[0][0]'] \n",
      "                                                                                                  \n",
      " average_pooling2d_5 (AveragePo  (None, 9, 9, 768)   0           ['mixed5[0][0]']                 \n",
      " oling2D)                                                                                         \n",
      "                                                                                                  \n",
      " conv2d_50 (Conv2D)             (None, 9, 9, 192)    147456      ['mixed5[0][0]']                 \n",
      "                                                                                                  \n",
      " conv2d_53 (Conv2D)             (None, 9, 9, 192)    215040      ['activation_52[0][0]']          \n",
      "                                                                                                  \n",
      " conv2d_58 (Conv2D)             (None, 9, 9, 192)    215040      ['activation_57[0][0]']          \n",
      "                                                                                                  \n",
      " conv2d_59 (Conv2D)             (None, 9, 9, 192)    147456      ['average_pooling2d_5[0][0]']    \n",
      "                                                                                                  \n",
      " batch_normalization_50 (BatchN  (None, 9, 9, 192)   576         ['conv2d_50[0][0]']              \n",
      " ormalization)                                                                                    \n",
      "                                                                                                  \n",
      " batch_normalization_53 (BatchN  (None, 9, 9, 192)   576         ['conv2d_53[0][0]']              \n",
      " ormalization)                                                                                    \n",
      "                                                                                                  \n",
      " batch_normalization_58 (BatchN  (None, 9, 9, 192)   576         ['conv2d_58[0][0]']              \n",
      " ormalization)                                                                                    \n",
      "                                                                                                  \n",
      " batch_normalization_59 (BatchN  (None, 9, 9, 192)   576         ['conv2d_59[0][0]']              \n",
      " ormalization)                                                                                    \n",
      "                                                                                                  \n",
      " activation_50 (Activation)     (None, 9, 9, 192)    0           ['batch_normalization_50[0][0]'] \n",
      "                                                                                                  \n",
      " activation_53 (Activation)     (None, 9, 9, 192)    0           ['batch_normalization_53[0][0]'] \n",
      "                                                                                                  \n",
      " activation_58 (Activation)     (None, 9, 9, 192)    0           ['batch_normalization_58[0][0]'] \n",
      "                                                                                                  \n",
      " activation_59 (Activation)     (None, 9, 9, 192)    0           ['batch_normalization_59[0][0]'] \n",
      "                                                                                                  \n",
      " mixed6 (Concatenate)           (None, 9, 9, 768)    0           ['activation_50[0][0]',          \n",
      "                                                                  'activation_53[0][0]',          \n",
      "                                                                  'activation_58[0][0]',          \n",
      "                                                                  'activation_59[0][0]']          \n",
      "                                                                                                  \n",
      " conv2d_64 (Conv2D)             (None, 9, 9, 192)    147456      ['mixed6[0][0]']                 \n",
      "                                                                                                  \n",
      " batch_normalization_64 (BatchN  (None, 9, 9, 192)   576         ['conv2d_64[0][0]']              \n",
      " ormalization)                                                                                    \n",
      "                                                                                                  \n",
      " activation_64 (Activation)     (None, 9, 9, 192)    0           ['batch_normalization_64[0][0]'] \n",
      "                                                                                                  \n",
      " conv2d_65 (Conv2D)             (None, 9, 9, 192)    258048      ['activation_64[0][0]']          \n",
      "                                                                                                  \n",
      " batch_normalization_65 (BatchN  (None, 9, 9, 192)   576         ['conv2d_65[0][0]']              \n",
      " ormalization)                                                                                    \n",
      "                                                                                                  \n",
      " activation_65 (Activation)     (None, 9, 9, 192)    0           ['batch_normalization_65[0][0]'] \n",
      "                                                                                                  \n",
      " conv2d_61 (Conv2D)             (None, 9, 9, 192)    147456      ['mixed6[0][0]']                 \n",
      "                                                                                                  \n",
      " conv2d_66 (Conv2D)             (None, 9, 9, 192)    258048      ['activation_65[0][0]']          \n",
      "                                                                                                  \n",
      " batch_normalization_61 (BatchN  (None, 9, 9, 192)   576         ['conv2d_61[0][0]']              \n",
      " ormalization)                                                                                    \n",
      "                                                                                                  \n",
      " batch_normalization_66 (BatchN  (None, 9, 9, 192)   576         ['conv2d_66[0][0]']              \n",
      " ormalization)                                                                                    \n",
      "                                                                                                  \n",
      " activation_61 (Activation)     (None, 9, 9, 192)    0           ['batch_normalization_61[0][0]'] \n",
      "                                                                                                  \n",
      " activation_66 (Activation)     (None, 9, 9, 192)    0           ['batch_normalization_66[0][0]'] \n",
      "                                                                                                  \n",
      " conv2d_62 (Conv2D)             (None, 9, 9, 192)    258048      ['activation_61[0][0]']          \n",
      "                                                                                                  \n",
      " conv2d_67 (Conv2D)             (None, 9, 9, 192)    258048      ['activation_66[0][0]']          \n",
      "                                                                                                  \n",
      " batch_normalization_62 (BatchN  (None, 9, 9, 192)   576         ['conv2d_62[0][0]']              \n",
      " ormalization)                                                                                    \n",
      "                                                                                                  \n",
      " batch_normalization_67 (BatchN  (None, 9, 9, 192)   576         ['conv2d_67[0][0]']              \n",
      " ormalization)                                                                                    \n",
      "                                                                                                  \n",
      " activation_62 (Activation)     (None, 9, 9, 192)    0           ['batch_normalization_62[0][0]'] \n",
      "                                                                                                  \n",
      " activation_67 (Activation)     (None, 9, 9, 192)    0           ['batch_normalization_67[0][0]'] \n",
      "                                                                                                  \n",
      " average_pooling2d_6 (AveragePo  (None, 9, 9, 768)   0           ['mixed6[0][0]']                 \n",
      " oling2D)                                                                                         \n",
      "                                                                                                  \n",
      " conv2d_60 (Conv2D)             (None, 9, 9, 192)    147456      ['mixed6[0][0]']                 \n",
      "                                                                                                  \n",
      " conv2d_63 (Conv2D)             (None, 9, 9, 192)    258048      ['activation_62[0][0]']          \n",
      "                                                                                                  \n",
      " conv2d_68 (Conv2D)             (None, 9, 9, 192)    258048      ['activation_67[0][0]']          \n",
      "                                                                                                  \n",
      " conv2d_69 (Conv2D)             (None, 9, 9, 192)    147456      ['average_pooling2d_6[0][0]']    \n",
      "                                                                                                  \n",
      " batch_normalization_60 (BatchN  (None, 9, 9, 192)   576         ['conv2d_60[0][0]']              \n",
      " ormalization)                                                                                    \n",
      "                                                                                                  \n",
      " batch_normalization_63 (BatchN  (None, 9, 9, 192)   576         ['conv2d_63[0][0]']              \n",
      " ormalization)                                                                                    \n",
      "                                                                                                  \n",
      " batch_normalization_68 (BatchN  (None, 9, 9, 192)   576         ['conv2d_68[0][0]']              \n",
      " ormalization)                                                                                    \n",
      "                                                                                                  \n",
      " batch_normalization_69 (BatchN  (None, 9, 9, 192)   576         ['conv2d_69[0][0]']              \n",
      " ormalization)                                                                                    \n",
      "                                                                                                  \n",
      " activation_60 (Activation)     (None, 9, 9, 192)    0           ['batch_normalization_60[0][0]'] \n",
      "                                                                                                  \n",
      " activation_63 (Activation)     (None, 9, 9, 192)    0           ['batch_normalization_63[0][0]'] \n",
      "                                                                                                  \n",
      " activation_68 (Activation)     (None, 9, 9, 192)    0           ['batch_normalization_68[0][0]'] \n",
      "                                                                                                  \n",
      " activation_69 (Activation)     (None, 9, 9, 192)    0           ['batch_normalization_69[0][0]'] \n",
      "                                                                                                  \n",
      " mixed7 (Concatenate)           (None, 9, 9, 768)    0           ['activation_60[0][0]',          \n",
      "                                                                  'activation_63[0][0]',          \n",
      "                                                                  'activation_68[0][0]',          \n",
      "                                                                  'activation_69[0][0]']          \n",
      "                                                                                                  \n",
      " conv2d_72 (Conv2D)             (None, 9, 9, 192)    147456      ['mixed7[0][0]']                 \n",
      "                                                                                                  \n",
      " batch_normalization_72 (BatchN  (None, 9, 9, 192)   576         ['conv2d_72[0][0]']              \n",
      " ormalization)                                                                                    \n",
      "                                                                                                  \n",
      " activation_72 (Activation)     (None, 9, 9, 192)    0           ['batch_normalization_72[0][0]'] \n",
      "                                                                                                  \n",
      " conv2d_73 (Conv2D)             (None, 9, 9, 192)    258048      ['activation_72[0][0]']          \n",
      "                                                                                                  \n",
      " batch_normalization_73 (BatchN  (None, 9, 9, 192)   576         ['conv2d_73[0][0]']              \n",
      " ormalization)                                                                                    \n",
      "                                                                                                  \n",
      " activation_73 (Activation)     (None, 9, 9, 192)    0           ['batch_normalization_73[0][0]'] \n",
      "                                                                                                  \n",
      " conv2d_70 (Conv2D)             (None, 9, 9, 192)    147456      ['mixed7[0][0]']                 \n",
      "                                                                                                  \n",
      " conv2d_74 (Conv2D)             (None, 9, 9, 192)    258048      ['activation_73[0][0]']          \n",
      "                                                                                                  \n",
      " batch_normalization_70 (BatchN  (None, 9, 9, 192)   576         ['conv2d_70[0][0]']              \n",
      " ormalization)                                                                                    \n",
      "                                                                                                  \n",
      " batch_normalization_74 (BatchN  (None, 9, 9, 192)   576         ['conv2d_74[0][0]']              \n",
      " ormalization)                                                                                    \n",
      "                                                                                                  \n",
      " activation_70 (Activation)     (None, 9, 9, 192)    0           ['batch_normalization_70[0][0]'] \n",
      "                                                                                                  \n",
      " activation_74 (Activation)     (None, 9, 9, 192)    0           ['batch_normalization_74[0][0]'] \n",
      "                                                                                                  \n",
      " conv2d_71 (Conv2D)             (None, 4, 4, 320)    552960      ['activation_70[0][0]']          \n",
      "                                                                                                  \n",
      " conv2d_75 (Conv2D)             (None, 4, 4, 192)    331776      ['activation_74[0][0]']          \n",
      "                                                                                                  \n",
      " batch_normalization_71 (BatchN  (None, 4, 4, 320)   960         ['conv2d_71[0][0]']              \n",
      " ormalization)                                                                                    \n",
      "                                                                                                  \n",
      " batch_normalization_75 (BatchN  (None, 4, 4, 192)   576         ['conv2d_75[0][0]']              \n",
      " ormalization)                                                                                    \n",
      "                                                                                                  \n",
      " activation_71 (Activation)     (None, 4, 4, 320)    0           ['batch_normalization_71[0][0]'] \n",
      "                                                                                                  \n",
      " activation_75 (Activation)     (None, 4, 4, 192)    0           ['batch_normalization_75[0][0]'] \n",
      "                                                                                                  \n",
      " max_pooling2d_3 (MaxPooling2D)  (None, 4, 4, 768)   0           ['mixed7[0][0]']                 \n",
      "                                                                                                  \n",
      " mixed8 (Concatenate)           (None, 4, 4, 1280)   0           ['activation_71[0][0]',          \n",
      "                                                                  'activation_75[0][0]',          \n",
      "                                                                  'max_pooling2d_3[0][0]']        \n",
      "                                                                                                  \n",
      " conv2d_80 (Conv2D)             (None, 4, 4, 448)    573440      ['mixed8[0][0]']                 \n",
      "                                                                                                  \n",
      " batch_normalization_80 (BatchN  (None, 4, 4, 448)   1344        ['conv2d_80[0][0]']              \n",
      " ormalization)                                                                                    \n",
      "                                                                                                  \n",
      " activation_80 (Activation)     (None, 4, 4, 448)    0           ['batch_normalization_80[0][0]'] \n",
      "                                                                                                  \n",
      " conv2d_77 (Conv2D)             (None, 4, 4, 384)    491520      ['mixed8[0][0]']                 \n",
      "                                                                                                  \n",
      " conv2d_81 (Conv2D)             (None, 4, 4, 384)    1548288     ['activation_80[0][0]']          \n",
      "                                                                                                  \n",
      " batch_normalization_77 (BatchN  (None, 4, 4, 384)   1152        ['conv2d_77[0][0]']              \n",
      " ormalization)                                                                                    \n",
      "                                                                                                  \n",
      " batch_normalization_81 (BatchN  (None, 4, 4, 384)   1152        ['conv2d_81[0][0]']              \n",
      " ormalization)                                                                                    \n",
      "                                                                                                  \n",
      " activation_77 (Activation)     (None, 4, 4, 384)    0           ['batch_normalization_77[0][0]'] \n",
      "                                                                                                  \n",
      " activation_81 (Activation)     (None, 4, 4, 384)    0           ['batch_normalization_81[0][0]'] \n",
      "                                                                                                  \n",
      " conv2d_78 (Conv2D)             (None, 4, 4, 384)    442368      ['activation_77[0][0]']          \n",
      "                                                                                                  \n",
      " conv2d_79 (Conv2D)             (None, 4, 4, 384)    442368      ['activation_77[0][0]']          \n",
      "                                                                                                  \n",
      " conv2d_82 (Conv2D)             (None, 4, 4, 384)    442368      ['activation_81[0][0]']          \n",
      "                                                                                                  \n",
      " conv2d_83 (Conv2D)             (None, 4, 4, 384)    442368      ['activation_81[0][0]']          \n",
      "                                                                                                  \n",
      " average_pooling2d_7 (AveragePo  (None, 4, 4, 1280)  0           ['mixed8[0][0]']                 \n",
      " oling2D)                                                                                         \n",
      "                                                                                                  \n",
      " conv2d_76 (Conv2D)             (None, 4, 4, 320)    409600      ['mixed8[0][0]']                 \n",
      "                                                                                                  \n",
      " batch_normalization_78 (BatchN  (None, 4, 4, 384)   1152        ['conv2d_78[0][0]']              \n",
      " ormalization)                                                                                    \n",
      "                                                                                                  \n",
      " batch_normalization_79 (BatchN  (None, 4, 4, 384)   1152        ['conv2d_79[0][0]']              \n",
      " ormalization)                                                                                    \n",
      "                                                                                                  \n",
      " batch_normalization_82 (BatchN  (None, 4, 4, 384)   1152        ['conv2d_82[0][0]']              \n",
      " ormalization)                                                                                    \n",
      "                                                                                                  \n",
      " batch_normalization_83 (BatchN  (None, 4, 4, 384)   1152        ['conv2d_83[0][0]']              \n",
      " ormalization)                                                                                    \n",
      "                                                                                                  \n",
      " conv2d_84 (Conv2D)             (None, 4, 4, 192)    245760      ['average_pooling2d_7[0][0]']    \n",
      "                                                                                                  \n",
      " batch_normalization_76 (BatchN  (None, 4, 4, 320)   960         ['conv2d_76[0][0]']              \n",
      " ormalization)                                                                                    \n",
      "                                                                                                  \n",
      " activation_78 (Activation)     (None, 4, 4, 384)    0           ['batch_normalization_78[0][0]'] \n",
      "                                                                                                  \n",
      " activation_79 (Activation)     (None, 4, 4, 384)    0           ['batch_normalization_79[0][0]'] \n",
      "                                                                                                  \n",
      " activation_82 (Activation)     (None, 4, 4, 384)    0           ['batch_normalization_82[0][0]'] \n",
      "                                                                                                  \n",
      " activation_83 (Activation)     (None, 4, 4, 384)    0           ['batch_normalization_83[0][0]'] \n",
      "                                                                                                  \n",
      " batch_normalization_84 (BatchN  (None, 4, 4, 192)   576         ['conv2d_84[0][0]']              \n",
      " ormalization)                                                                                    \n",
      "                                                                                                  \n",
      " activation_76 (Activation)     (None, 4, 4, 320)    0           ['batch_normalization_76[0][0]'] \n",
      "                                                                                                  \n",
      " mixed9_0 (Concatenate)         (None, 4, 4, 768)    0           ['activation_78[0][0]',          \n",
      "                                                                  'activation_79[0][0]']          \n",
      "                                                                                                  \n",
      " concatenate (Concatenate)      (None, 4, 4, 768)    0           ['activation_82[0][0]',          \n",
      "                                                                  'activation_83[0][0]']          \n",
      "                                                                                                  \n",
      " activation_84 (Activation)     (None, 4, 4, 192)    0           ['batch_normalization_84[0][0]'] \n",
      "                                                                                                  \n",
      " mixed9 (Concatenate)           (None, 4, 4, 2048)   0           ['activation_76[0][0]',          \n",
      "                                                                  'mixed9_0[0][0]',               \n",
      "                                                                  'concatenate[0][0]',            \n",
      "                                                                  'activation_84[0][0]']          \n",
      "                                                                                                  \n",
      " conv2d_89 (Conv2D)             (None, 4, 4, 448)    917504      ['mixed9[0][0]']                 \n",
      "                                                                                                  \n",
      " batch_normalization_89 (BatchN  (None, 4, 4, 448)   1344        ['conv2d_89[0][0]']              \n",
      " ormalization)                                                                                    \n",
      "                                                                                                  \n",
      " activation_89 (Activation)     (None, 4, 4, 448)    0           ['batch_normalization_89[0][0]'] \n",
      "                                                                                                  \n",
      " conv2d_86 (Conv2D)             (None, 4, 4, 384)    786432      ['mixed9[0][0]']                 \n",
      "                                                                                                  \n",
      " conv2d_90 (Conv2D)             (None, 4, 4, 384)    1548288     ['activation_89[0][0]']          \n",
      "                                                                                                  \n",
      " batch_normalization_86 (BatchN  (None, 4, 4, 384)   1152        ['conv2d_86[0][0]']              \n",
      " ormalization)                                                                                    \n",
      "                                                                                                  \n",
      " batch_normalization_90 (BatchN  (None, 4, 4, 384)   1152        ['conv2d_90[0][0]']              \n",
      " ormalization)                                                                                    \n",
      "                                                                                                  \n",
      " activation_86 (Activation)     (None, 4, 4, 384)    0           ['batch_normalization_86[0][0]'] \n",
      "                                                                                                  \n",
      " activation_90 (Activation)     (None, 4, 4, 384)    0           ['batch_normalization_90[0][0]'] \n",
      "                                                                                                  \n",
      " conv2d_87 (Conv2D)             (None, 4, 4, 384)    442368      ['activation_86[0][0]']          \n",
      "                                                                                                  \n",
      " conv2d_88 (Conv2D)             (None, 4, 4, 384)    442368      ['activation_86[0][0]']          \n",
      "                                                                                                  \n",
      " conv2d_91 (Conv2D)             (None, 4, 4, 384)    442368      ['activation_90[0][0]']          \n",
      "                                                                                                  \n",
      " conv2d_92 (Conv2D)             (None, 4, 4, 384)    442368      ['activation_90[0][0]']          \n",
      "                                                                                                  \n",
      " average_pooling2d_8 (AveragePo  (None, 4, 4, 2048)  0           ['mixed9[0][0]']                 \n",
      " oling2D)                                                                                         \n",
      "                                                                                                  \n",
      " conv2d_85 (Conv2D)             (None, 4, 4, 320)    655360      ['mixed9[0][0]']                 \n",
      "                                                                                                  \n",
      " batch_normalization_87 (BatchN  (None, 4, 4, 384)   1152        ['conv2d_87[0][0]']              \n",
      " ormalization)                                                                                    \n",
      "                                                                                                  \n",
      " batch_normalization_88 (BatchN  (None, 4, 4, 384)   1152        ['conv2d_88[0][0]']              \n",
      " ormalization)                                                                                    \n",
      "                                                                                                  \n",
      " batch_normalization_91 (BatchN  (None, 4, 4, 384)   1152        ['conv2d_91[0][0]']              \n",
      " ormalization)                                                                                    \n",
      "                                                                                                  \n",
      " batch_normalization_92 (BatchN  (None, 4, 4, 384)   1152        ['conv2d_92[0][0]']              \n",
      " ormalization)                                                                                    \n",
      "                                                                                                  \n",
      " conv2d_93 (Conv2D)             (None, 4, 4, 192)    393216      ['average_pooling2d_8[0][0]']    \n",
      "                                                                                                  \n",
      " batch_normalization_85 (BatchN  (None, 4, 4, 320)   960         ['conv2d_85[0][0]']              \n",
      " ormalization)                                                                                    \n",
      "                                                                                                  \n",
      " activation_87 (Activation)     (None, 4, 4, 384)    0           ['batch_normalization_87[0][0]'] \n",
      "                                                                                                  \n",
      " activation_88 (Activation)     (None, 4, 4, 384)    0           ['batch_normalization_88[0][0]'] \n",
      "                                                                                                  \n",
      " activation_91 (Activation)     (None, 4, 4, 384)    0           ['batch_normalization_91[0][0]'] \n",
      "                                                                                                  \n",
      " activation_92 (Activation)     (None, 4, 4, 384)    0           ['batch_normalization_92[0][0]'] \n",
      "                                                                                                  \n",
      " batch_normalization_93 (BatchN  (None, 4, 4, 192)   576         ['conv2d_93[0][0]']              \n",
      " ormalization)                                                                                    \n",
      "                                                                                                  \n",
      " activation_85 (Activation)     (None, 4, 4, 320)    0           ['batch_normalization_85[0][0]'] \n",
      "                                                                                                  \n",
      " mixed9_1 (Concatenate)         (None, 4, 4, 768)    0           ['activation_87[0][0]',          \n",
      "                                                                  'activation_88[0][0]']          \n",
      "                                                                                                  \n",
      " concatenate_1 (Concatenate)    (None, 4, 4, 768)    0           ['activation_91[0][0]',          \n",
      "                                                                  'activation_92[0][0]']          \n",
      "                                                                                                  \n",
      " activation_93 (Activation)     (None, 4, 4, 192)    0           ['batch_normalization_93[0][0]'] \n",
      "                                                                                                  \n",
      " mixed10 (Concatenate)          (None, 4, 4, 2048)   0           ['activation_85[0][0]',          \n",
      "                                                                  'mixed9_1[0][0]',               \n",
      "                                                                  'concatenate_1[0][0]',          \n",
      "                                                                  'activation_93[0][0]']          \n",
      "                                                                                                  \n",
      "==================================================================================================\n",
      "Total params: 21,802,784\n",
      "Trainable params: 21,768,352\n",
      "Non-trainable params: 34,432\n",
      "__________________________________________________________________________________________________\n"
     ]
    }
   ],
   "source": [
    "if PRETRAINED == 'VGG':\n",
    "    conv_base = VGG16(weights='imagenet',\n",
    "                  include_top=False,\n",
    "                  input_shape=(180, 180, 3))\n",
    "else:\n",
    "    conv_base = InceptionV3(weights='imagenet',\n",
    "                        include_top=False,\n",
    "                        input_shape=(180, 180, 3))\n",
    "conv_base.summary()"
   ]
  },
  {
   "cell_type": "code",
   "execution_count": null,
   "metadata": {
    "id": "SDm9v4co8e22"
   },
   "outputs": [],
   "source": [
    "# Write your code \n",
    "\n",
    "def get_features_and_labels(dataset):\n",
    "    all_features = []\n",
    "    all_labels = []\n",
    "    for images, labels in dataset:\n",
    "        preprocessed_images = keras.applications.inception_v3.preprocess_input(images)\n",
    "        features = conv_base.predict(preprocessed_images)\n",
    "        all_features.append(features)\n",
    "        all_labels.append(labels)\n",
    "    return np.concatenate(all_features), np.concatenate(all_labels)"
   ]
  },
  {
   "cell_type": "markdown",
   "metadata": {
    "id": "L3t3Kq0O8e22"
   },
   "source": [
    "The features and labels"
   ]
  },
  {
   "cell_type": "code",
   "execution_count": 2,
   "metadata": {
    "colab": {
     "base_uri": "https://localhost:8080/",
     "height": 200
    },
    "executionInfo": {
     "elapsed": 6,
     "status": "error",
     "timestamp": 1639236932847,
     "user": {
      "displayName": "marcus.ascard@hotmail.com",
      "photoUrl": "https://lh3.googleusercontent.com/a/default-user=s64",
      "userId": "03115809186989619152"
     },
     "user_tz": -60
    },
    "id": "vzbzzvHc8e22",
    "outputId": "57e25991-fd3e-413c-c86c-2798c1e34c46"
   },
   "outputs": [],
   "source": [
    "train_features, train_labels =  get_features_and_labels(train_dataset)\n",
    "val_features, val_labels =  get_features_and_labels(validation_dataset)\n",
    "test_features, test_labels =  get_features_and_labels(test_dataset)"
   ]
  },
  {
   "cell_type": "code",
   "execution_count": 3,
   "metadata": {
    "colab": {
     "base_uri": "https://localhost:8080/",
     "height": 165
    },
    "executionInfo": {
     "elapsed": 6,
     "status": "error",
     "timestamp": 1639236933056,
     "user": {
      "displayName": "marcus.ascard@hotmail.com",
      "photoUrl": "https://lh3.googleusercontent.com/a/default-user=s64",
      "userId": "03115809186989619152"
     },
     "user_tz": -60
    },
    "id": "83Xnr0808e22",
    "outputId": "9bf8085e-6072-4e43-de79-71d6bb5d154c"
   },
   "outputs": [
    {
     "name": "stdout",
     "output_type": "stream",
     "text": [
      "(2590, 4, 4, 2048)\n"
     ]
    }
   ],
   "source": [
    "train_features.shape "
   ]
  },
  {
   "cell_type": "markdown",
   "metadata": {
    "id": "csJoCeLI8e22"
   },
   "source": [
    "Build a network that consists of the Inception V3 convolutional base and two dense layers."
   ]
  },
  {
   "cell_type": "code",
   "execution_count": null,
   "metadata": {
    "id": "JNHKpekL8e23"
   },
   "outputs": [],
   "source": [
    "inputs = keras.Input(shape=(4, 4, 2048))  \n",
    "x = layers.Flatten()(inputs) \n",
    "x = layers.Dense(256, activation=\"tanh\")(x)\n",
    "x = layers.Dropout(0.5)(x)\n",
    "outputs = layers.Dense(5, activation=\"softmax\")(x)\n",
    "model = keras.Model(inputs, outputs)"
   ]
  },
  {
   "cell_type": "code",
   "execution_count": null,
   "metadata": {
    "colab": {
     "base_uri": "https://localhost:8080/"
    },
    "executionInfo": {
     "elapsed": 190,
     "status": "ok",
     "timestamp": 1638783008289,
     "user": {
      "displayName": "marcus.ascard@hotmail.com",
      "photoUrl": "https://lh3.googleusercontent.com/a/default-user=s64",
      "userId": "03115809186989619152"
     },
     "user_tz": -60
    },
    "id": "XkP-GuDj8e23",
    "outputId": "96193f81-cece-4487-b19e-6c7abc7e7774"
   },
   "outputs": [
    {
     "name": "stdout",
     "output_type": "stream",
     "text": [
      "Model: \"model_2\"\n",
      "_________________________________________________________________\n",
      " Layer (type)                Output Shape              Param #   \n",
      "=================================================================\n",
      " input_4 (InputLayer)        [(None, 4, 4, 2048)]      0         \n",
      "                                                                 \n",
      " flatten_2 (Flatten)         (None, 32768)             0         \n",
      "                                                                 \n",
      " dense_4 (Dense)             (None, 256)               8388864   \n",
      "                                                                 \n",
      " dropout (Dropout)           (None, 256)               0         \n",
      "                                                                 \n",
      " dense_5 (Dense)             (None, 5)                 1285      \n",
      "                                                                 \n",
      "=================================================================\n",
      "Total params: 8,390,149\n",
      "Trainable params: 8,390,149\n",
      "Non-trainable params: 0\n",
      "_________________________________________________________________\n"
     ]
    }
   ],
   "source": [
    "model.summary()"
   ]
  },
  {
   "cell_type": "markdown",
   "metadata": {
    "id": "1S0Mv0G48e23"
   },
   "source": [
    "Compile your model"
   ]
  },
  {
   "cell_type": "code",
   "execution_count": null,
   "metadata": {
    "id": "zb2Tt6Va8e23"
   },
   "outputs": [],
   "source": [
    "# Write your code\n",
    "# Compile model \n",
    "model.compile(optimizer=\"rmsprop\", loss=\"sparse_categorical_crossentropy\", metrics=[\"accuracy\"])"
   ]
  },
  {
   "cell_type": "markdown",
   "metadata": {
    "id": "PycTe2lW8e23"
   },
   "source": [
    "Define a callback to save your best model"
   ]
  },
  {
   "cell_type": "code",
   "execution_count": null,
   "metadata": {
    "id": "s0hHlB2P8e23"
   },
   "outputs": [],
   "source": [
    "# Write your code here \n",
    "callbacks = [\n",
    "    keras.callbacks.ModelCheckpoint(\n",
    "        filepath=\"inception_v3.keras\",\n",
    "        save_best_only=True,\n",
    "        monitor=\"val_loss\")\n",
    "]"
   ]
  },
  {
   "cell_type": "markdown",
   "metadata": {
    "id": "q_4rtNfT8e23"
   },
   "source": [
    "Fit your network"
   ]
  },
  {
   "cell_type": "code",
   "execution_count": null,
   "metadata": {
    "colab": {
     "base_uri": "https://localhost:8080/"
    },
    "executionInfo": {
     "elapsed": 41748,
     "status": "ok",
     "timestamp": 1638783056259,
     "user": {
      "displayName": "marcus.ascard@hotmail.com",
      "photoUrl": "https://lh3.googleusercontent.com/a/default-user=s64",
      "userId": "03115809186989619152"
     },
     "user_tz": -60
    },
    "id": "NJQZVZGx8e24",
    "outputId": "510046e9-19ac-46d2-b721-178894a536e1"
   },
   "outputs": [
    {
     "name": "stdout",
     "output_type": "stream",
     "text": [
      "Epoch 1/30\n",
      "81/81 [==============================] - 2s 18ms/step - loss: 1.9680 - accuracy: 0.3456 - val_loss: 1.1610 - val_accuracy: 0.5168\n",
      "Epoch 2/30\n",
      "81/81 [==============================] - 1s 16ms/step - loss: 1.3867 - accuracy: 0.4676 - val_loss: 0.8950 - val_accuracy: 0.6454\n",
      "Epoch 3/30\n",
      "81/81 [==============================] - 1s 14ms/step - loss: 1.1153 - accuracy: 0.5649 - val_loss: 0.7895 - val_accuracy: 0.7439\n",
      "Epoch 4/30\n",
      "81/81 [==============================] - 1s 15ms/step - loss: 0.9603 - accuracy: 0.6344 - val_loss: 0.6883 - val_accuracy: 0.7439\n",
      "Epoch 5/30\n",
      "81/81 [==============================] - 1s 15ms/step - loss: 0.8281 - accuracy: 0.6892 - val_loss: 0.6846 - val_accuracy: 0.7601\n",
      "Epoch 6/30\n",
      "81/81 [==============================] - 1s 13ms/step - loss: 0.7697 - accuracy: 0.7162 - val_loss: 0.7186 - val_accuracy: 0.7346\n",
      "Epoch 7/30\n",
      "81/81 [==============================] - 1s 15ms/step - loss: 0.7034 - accuracy: 0.7429 - val_loss: 0.5985 - val_accuracy: 0.7764\n",
      "Epoch 8/30\n",
      "81/81 [==============================] - 1s 13ms/step - loss: 0.6661 - accuracy: 0.7622 - val_loss: 0.6305 - val_accuracy: 0.7613\n",
      "Epoch 9/30\n",
      "81/81 [==============================] - 1s 15ms/step - loss: 0.6117 - accuracy: 0.7780 - val_loss: 0.5963 - val_accuracy: 0.7625\n",
      "Epoch 10/30\n",
      "81/81 [==============================] - 1s 15ms/step - loss: 0.5890 - accuracy: 0.7919 - val_loss: 0.5696 - val_accuracy: 0.7972\n",
      "Epoch 11/30\n",
      "81/81 [==============================] - 1s 13ms/step - loss: 0.5502 - accuracy: 0.8046 - val_loss: 0.5811 - val_accuracy: 0.7868\n",
      "Epoch 12/30\n",
      "81/81 [==============================] - 1s 18ms/step - loss: 0.5350 - accuracy: 0.8178 - val_loss: 0.5420 - val_accuracy: 0.7926\n",
      "Epoch 13/30\n",
      "81/81 [==============================] - 1s 13ms/step - loss: 0.5136 - accuracy: 0.8178 - val_loss: 0.5651 - val_accuracy: 0.8019\n",
      "Epoch 14/30\n",
      "81/81 [==============================] - 1s 13ms/step - loss: 0.4963 - accuracy: 0.8135 - val_loss: 0.5523 - val_accuracy: 0.7856\n",
      "Epoch 15/30\n",
      "81/81 [==============================] - 1s 15ms/step - loss: 0.4729 - accuracy: 0.8386 - val_loss: 0.5295 - val_accuracy: 0.8076\n",
      "Epoch 16/30\n",
      "81/81 [==============================] - 1s 13ms/step - loss: 0.4734 - accuracy: 0.8375 - val_loss: 0.5315 - val_accuracy: 0.8019\n",
      "Epoch 17/30\n",
      "81/81 [==============================] - 1s 13ms/step - loss: 0.4811 - accuracy: 0.8270 - val_loss: 0.5339 - val_accuracy: 0.8158\n",
      "Epoch 18/30\n",
      "81/81 [==============================] - 1s 13ms/step - loss: 0.4448 - accuracy: 0.8405 - val_loss: 0.5316 - val_accuracy: 0.8146\n",
      "Epoch 19/30\n",
      "81/81 [==============================] - 1s 13ms/step - loss: 0.4538 - accuracy: 0.8444 - val_loss: 0.5406 - val_accuracy: 0.8053\n",
      "Epoch 20/30\n",
      "81/81 [==============================] - 1s 13ms/step - loss: 0.4260 - accuracy: 0.8564 - val_loss: 0.5604 - val_accuracy: 0.8007\n",
      "Epoch 21/30\n",
      "81/81 [==============================] - 1s 13ms/step - loss: 0.4038 - accuracy: 0.8649 - val_loss: 0.5365 - val_accuracy: 0.8158\n",
      "Epoch 22/30\n",
      "81/81 [==============================] - 1s 13ms/step - loss: 0.3843 - accuracy: 0.8598 - val_loss: 0.5638 - val_accuracy: 0.8042\n",
      "Epoch 23/30\n",
      "81/81 [==============================] - 1s 13ms/step - loss: 0.3854 - accuracy: 0.8625 - val_loss: 0.5335 - val_accuracy: 0.8181\n",
      "Epoch 24/30\n",
      "81/81 [==============================] - 1s 13ms/step - loss: 0.3891 - accuracy: 0.8691 - val_loss: 0.5847 - val_accuracy: 0.7972\n",
      "Epoch 25/30\n",
      "81/81 [==============================] - 1s 14ms/step - loss: 0.3558 - accuracy: 0.8761 - val_loss: 0.5465 - val_accuracy: 0.8111\n",
      "Epoch 26/30\n",
      "81/81 [==============================] - 1s 15ms/step - loss: 0.3558 - accuracy: 0.8764 - val_loss: 0.5271 - val_accuracy: 0.8123\n",
      "Epoch 27/30\n",
      "81/81 [==============================] - 1s 13ms/step - loss: 0.3507 - accuracy: 0.8776 - val_loss: 0.5327 - val_accuracy: 0.8181\n",
      "Epoch 28/30\n",
      "81/81 [==============================] - 1s 13ms/step - loss: 0.3651 - accuracy: 0.8741 - val_loss: 0.5426 - val_accuracy: 0.8262\n",
      "Epoch 29/30\n",
      "81/81 [==============================] - 1s 15ms/step - loss: 0.3323 - accuracy: 0.8826 - val_loss: 0.5116 - val_accuracy: 0.8331\n",
      "Epoch 30/30\n",
      "81/81 [==============================] - 1s 13ms/step - loss: 0.3245 - accuracy: 0.8869 - val_loss: 0.5208 - val_accuracy: 0.8250\n"
     ]
    }
   ],
   "source": [
    "# Write your code here \n",
    "# Write your fitting code here   \n",
    "history = model.fit(\n",
    "    train_features, train_labels,\n",
    "    epochs=30,\n",
    "    validation_data=(val_features, val_labels),\n",
    "    callbacks=callbacks)"
   ]
  },
  {
   "cell_type": "markdown",
   "metadata": {
    "id": "o094LpEk8e24"
   },
   "source": [
    "### Analyzing the fitting performance over epochs"
   ]
  },
  {
   "cell_type": "markdown",
   "metadata": {
    "id": "kpcwiTtW8e24"
   },
   "source": [
    "Show the training accuracy along with the epochs"
   ]
  },
  {
   "cell_type": "code",
   "execution_count": null,
   "metadata": {
    "colab": {
     "base_uri": "https://localhost:8080/",
     "height": 545
    },
    "executionInfo": {
     "elapsed": 654,
     "status": "ok",
     "timestamp": 1638783072886,
     "user": {
      "displayName": "marcus.ascard@hotmail.com",
      "photoUrl": "https://lh3.googleusercontent.com/a/default-user=s64",
      "userId": "03115809186989619152"
     },
     "user_tz": -60
    },
    "id": "xIvzg-q-8e24",
    "outputId": "88348820-d128-4629-acd8-d24bc3325559"
   },
   "outputs": [
    {
     "data": {
      "image/png": "[encoded data removed]",
      "text/plain": [
       "<Figure size 432x288 with 1 Axes>"
      ]
     },
     "metadata": {
      "needs_background": "light"
     },
     "output_type": "display_data"
    },
    {
     "data": {
      "image/png": "[encoded data removed]",
      "text/plain": [
       "<Figure size 432x288 with 1 Axes>"
      ]
     },
     "metadata": {
      "needs_background": "light"
     },
     "output_type": "display_data"
    }
   ],
   "source": [
    "# Write your code here  \n",
    "\n",
    "accuracy = history.history[\"accuracy\"]\n",
    "val_accuracy = history.history[\"val_accuracy\"]\n",
    "loss = history.history[\"loss\"]\n",
    "val_loss = history.history[\"val_loss\"]\n",
    "epochs = range(1, len(accuracy) + 1)\n",
    "plt.plot(epochs, accuracy, \"bo\", label=\"Training accuracy\")\n",
    "plt.plot(epochs, val_accuracy, \"b\", label=\"Validation accuracy\")\n",
    "plt.title(\"Training and validation accuracy\")\n",
    "plt.legend()\n",
    "plt.figure()\n",
    "plt.plot(epochs, loss, \"bo\", label=\"Training loss\")\n",
    "plt.plot(epochs, val_loss, \"b\", label=\"Validation loss\")\n",
    "plt.title(\"Training and validation loss\")\n",
    "plt.legend()\n",
    "plt.show()"
   ]
  },
  {
   "cell_type": "markdown",
   "metadata": {
    "id": "WoSNOzdP8e24"
   },
   "source": [
    "Load your best model from the file"
   ]
  },
  {
   "cell_type": "code",
   "execution_count": null,
   "metadata": {
    "id": "uykJTnVP8e24"
   },
   "outputs": [],
   "source": [
    "# Write your code here\n",
    "# Write your code here\n",
    "test_model = keras.models.load_model(\"inception_v3.keras\")"
   ]
  },
  {
   "cell_type": "markdown",
   "metadata": {
    "id": "LyQthyAB8e24"
   },
   "source": [
    "Evaluate your model and store the loss and accuracy in `test_loss_3`, `test_acc_3`"
   ]
  },
  {
   "cell_type": "code",
   "execution_count": null,
   "metadata": {
    "colab": {
     "base_uri": "https://localhost:8080/"
    },
    "executionInfo": {
     "elapsed": 525,
     "status": "ok",
     "timestamp": 1638783085595,
     "user": {
      "displayName": "marcus.ascard@hotmail.com",
      "photoUrl": "https://lh3.googleusercontent.com/a/default-user=s64",
      "userId": "03115809186989619152"
     },
     "user_tz": -60
    },
    "id": "oIRdZO8D8e25",
    "outputId": "d72535ca-f62f-49d4-f82d-e2063b9c59f8"
   },
   "outputs": [
    {
     "name": "stdout",
     "output_type": "stream",
     "text": [
      "27/27 [==============================] - 0s 5ms/step - loss: 0.4539 - accuracy: 0.8472\n",
      "Test accuracy: 0.847\n",
      "Test loss: 0.454\n"
     ]
    }
   ],
   "source": [
    "# Write your code here  \n",
    "test_loss_3, test_acc_3 = test_model.evaluate(test_features, test_labels)\n",
    "print(f\"Test accuracy: {test_acc_3:.3f}\") \n",
    "print(f\"Test loss: {test_loss_3:.3f}\") "
   ]
  },
  {
   "cell_type": "code",
   "execution_count": null,
   "metadata": {
    "colab": {
     "base_uri": "https://localhost:8080/"
    },
    "executionInfo": {
     "elapsed": 193,
     "status": "ok",
     "timestamp": 1638783092075,
     "user": {
      "displayName": "marcus.ascard@hotmail.com",
      "photoUrl": "https://lh3.googleusercontent.com/a/default-user=s64",
      "userId": "03115809186989619152"
     },
     "user_tz": -60
    },
    "id": "bfN3e8Tr8e25",
    "outputId": "bd571080-f822-4db5-934f-ea3165871c82"
   },
   "outputs": [
    {
     "data": {
      "text/plain": [
       "(0.4539286196231842, 0.8472222089767456)"
      ]
     },
     "execution_count": 48,
     "metadata": {},
     "output_type": "execute_result"
    }
   ],
   "source": [
    "test_loss_3, test_acc_3"
   ]
  },
  {
   "cell_type": "markdown",
   "metadata": {
    "id": "brotztjB8e25"
   },
   "source": [
    "## Using a Pretrained Convolutional Base with Image Augmentation"
   ]
  },
  {
   "cell_type": "markdown",
   "metadata": {
    "id": "er1WaGYt8e25"
   },
   "source": [
    "### Architecture"
   ]
  },
  {
   "cell_type": "markdown",
   "metadata": {
    "id": "SnkwprqT8e25"
   },
   "source": [
    "1. Modify your program to include an image transformer. Train a new model. As a hint, use nadam or rmsprop as optimizer. Rescaling seems to lower the accuracy. Do not use it in your first attempts.\n",
    "2. Apply your network to the test set and report the accuracy as well as the confusion matrix you obtained."
   ]
  },
  {
   "cell_type": "code",
   "execution_count": null,
   "metadata": {
    "id": "pSTapy368e25"
   },
   "outputs": [],
   "source": [
    "if PRETRAINED == 'VGG':\n",
    "    conv_base = VGG16(weights='imagenet',\n",
    "                  include_top=False,\n",
    "                  input_shape=(180, 180, 3))\n",
    "else:\n",
    "    conv_base = InceptionV3(weights='imagenet',\n",
    "                        include_top=False,\n",
    "                        input_shape=(180, 180, 3))"
   ]
  },
  {
   "cell_type": "markdown",
   "metadata": {
    "id": "8-9-HhAs8e26"
   },
   "source": [
    "You may want to try this first, and possibly modify it to improve the scores"
   ]
  },
  {
   "cell_type": "code",
   "execution_count": null,
   "metadata": {
    "id": "M2_rUWY28e26"
   },
   "outputs": [],
   "source": [
    "conv_base.trainable = False"
   ]
  },
  {
   "cell_type": "markdown",
   "metadata": {
    "id": "vPMDrlGH8e26"
   },
   "source": [
    "Create an image augmentation"
   ]
  },
  {
   "cell_type": "code",
   "execution_count": null,
   "metadata": {
    "id": "vRBCnSaV8e26"
   },
   "outputs": [],
   "source": [
    "# Write you code\n",
    "data_augmentation = keras.Sequential(\n",
    "    [\n",
    "        layers.RandomFlip(\"horizontal\"),\n",
    "        layers.RandomRotation(0.1),\n",
    "        layers.RandomZoom(0.2),\n",
    "    ]\n",
    ")"
   ]
  },
  {
   "cell_type": "markdown",
   "metadata": {
    "id": "SO53iLn78e26"
   },
   "source": [
    "Create your model"
   ]
  },
  {
   "cell_type": "code",
   "execution_count": null,
   "metadata": {
    "id": "JM6pdl3L8e26"
   },
   "outputs": [],
   "source": [
    "# Write you code\n",
    "inputs = keras.Input(shape=(180, 180, 3)) \n",
    "x = data_augmentation(inputs)\n",
    "x = keras.applications.inception_v3.preprocess_input(x)\n",
    "x = conv_base(x)\n",
    "x = layers.Flatten()(x) \n",
    "x = layers.Dense(256, activation='tanh')(x) \n",
    "outputs = layers.Dense(5, activation=\"softmax\")(x)\n",
    "model = keras.Model(inputs, outputs)"
   ]
  },
  {
   "cell_type": "markdown",
   "metadata": {
    "id": "Qd0OizKj8e26"
   },
   "source": [
    "Compile it"
   ]
  },
  {
   "cell_type": "code",
   "execution_count": null,
   "metadata": {
    "id": "SlScQamz8e27"
   },
   "outputs": [],
   "source": [
    "# Write your code \n",
    "model.compile(optimizer=\"rmsprop\", loss=\"sparse_categorical_crossentropy\", metrics=[\"accuracy\"])"
   ]
  },
  {
   "cell_type": "code",
   "execution_count": null,
   "metadata": {
    "colab": {
     "base_uri": "https://localhost:8080/"
    },
    "executionInfo": {
     "elapsed": 2,
     "status": "ok",
     "timestamp": 1639238192547,
     "user": {
      "displayName": "marcus.ascard@hotmail.com",
      "photoUrl": "https://lh3.googleusercontent.com/a/default-user=s64",
      "userId": "03115809186989619152"
     },
     "user_tz": -60
    },
    "id": "Kqg4lAGa8e27",
    "outputId": "76f449a3-2db1-4327-b8bb-1c5ba9f3e302"
   },
   "outputs": [
    {
     "name": "stdout",
     "output_type": "stream",
     "text": [
      "Model: \"model\"\n",
      "_________________________________________________________________\n",
      " Layer (type)                Output Shape              Param #   \n",
      "=================================================================\n",
      " input_3 (InputLayer)        [(None, 180, 180, 3)]     0         \n",
      "                                                                 \n",
      " sequential (Sequential)     (None, 180, 180, 3)       0         \n",
      "                                                                 \n",
      " tf.math.truediv (TFOpLambda  (None, 180, 180, 3)      0         \n",
      " )                                                               \n",
      "                                                                 \n",
      " tf.math.subtract (TFOpLambd  (None, 180, 180, 3)      0         \n",
      " a)                                                              \n",
      "                                                                 \n",
      " inception_v3 (Functional)   (None, 4, 4, 2048)        21802784  \n",
      "                                                                 \n",
      " flatten (Flatten)           (None, 32768)             0         \n",
      "                                                                 \n",
      " dense (Dense)               (None, 512)               16777728  \n",
      "                                                                 \n",
      " dense_1 (Dense)             (None, 256)               131328    \n",
      "                                                                 \n",
      " dense_2 (Dense)             (None, 5)                 1285      \n",
      "                                                                 \n",
      "=================================================================\n",
      "Total params: 38,713,125\n",
      "Trainable params: 16,910,341\n",
      "Non-trainable params: 21,802,784\n",
      "_________________________________________________________________\n"
     ]
    }
   ],
   "source": [
    "model.summary()"
   ]
  },
  {
   "cell_type": "markdown",
   "metadata": {
    "id": "IOso_Ytt8e27"
   },
   "source": [
    "Write a callback to save your best model"
   ]
  },
  {
   "cell_type": "code",
   "execution_count": null,
   "metadata": {
    "id": "quyOVna48e27"
   },
   "outputs": [],
   "source": [
    "# Write your code here \n",
    "# Write your fitting code here  \n",
    "callbacks = [\n",
    "    keras.callbacks.ModelCheckpoint(\n",
    "        filepath=\"inception_v3_im_aug.keras\",\n",
    "        save_best_only=True,\n",
    "        monitor=\"val_loss\")\n",
    "]  "
   ]
  },
  {
   "cell_type": "markdown",
   "metadata": {
    "id": "8sPTUBTi8e27"
   },
   "source": [
    "Fit the model"
   ]
  },
  {
   "cell_type": "code",
   "execution_count": null,
   "metadata": {
    "colab": {
     "base_uri": "https://localhost:8080/"
    },
    "id": "Ew-iRGPc8e27",
    "outputId": "b861a044-bd4a-4f73-b4cd-7a28a6957a6c"
   },
   "outputs": [
    {
     "name": "stdout",
     "output_type": "stream",
     "text": [
      "Epoch 1/30\n",
      "81/81 [==============================] - ETA: 0s - loss: 1.8162 - accuracy: 0.2548"
     ]
    }
   ],
   "source": [
    "# Write your code\n",
    "history = model.fit(\n",
    "    train_dataset,\n",
    "    epochs=30,\n",
    "    validation_data=validation_dataset,\n",
    "    callbacks=callbacks)"
   ]
  },
  {
   "cell_type": "markdown",
   "metadata": {
    "id": "8BWF0qbe8e28"
   },
   "source": [
    "### Analyzing the fitting performance over epochs"
   ]
  },
  {
   "cell_type": "markdown",
   "metadata": {
    "id": "SDZxneW58e28"
   },
   "source": [
    "Show the training accuracy along with the epochs"
   ]
  },
  {
   "cell_type": "code",
   "execution_count": null,
   "metadata": {
    "colab": {
     "base_uri": "https://localhost:8080/",
     "height": 545
    },
    "executionInfo": {
     "elapsed": 589,
     "status": "ok",
     "timestamp": 1638784564614,
     "user": {
      "displayName": "marcus.ascard@hotmail.com",
      "photoUrl": "https://lh3.googleusercontent.com/a/default-user=s64",
      "userId": "03115809186989619152"
     },
     "user_tz": -60
    },
    "id": "P8abOR4y8e28",
    "outputId": "bfa64094-4ec0-46f7-821c-620b51fc5fc6"
   },
   "outputs": [
    {
     "data": {
      "image/png": "[encoded data removed]",
      "text/plain": [
       "<Figure size 432x288 with 1 Axes>"
      ]
     },
     "metadata": {
      "needs_background": "light"
     },
     "output_type": "display_data"
    },
    {
     "data": {
      "image/png": "[encoded data removed]",
      "text/plain": [
       "<Figure size 432x288 with 1 Axes>"
      ]
     },
     "metadata": {
      "needs_background": "light"
     },
     "output_type": "display_data"
    }
   ],
   "source": [
    "# write your code  \n",
    "accuracy = history.history[\"accuracy\"]\n",
    "val_accuracy = history.history[\"val_accuracy\"]\n",
    "loss = history.history[\"loss\"]\n",
    "val_loss = history.history[\"val_loss\"]\n",
    "epochs = range(1, len(accuracy) + 1)\n",
    "plt.plot(epochs, accuracy, \"bo\", label=\"Training accuracy\")\n",
    "plt.plot(epochs, val_accuracy, \"b\", label=\"Validation accuracy\")\n",
    "plt.title(\"Training and validation accuracy\")\n",
    "plt.legend()\n",
    "plt.figure()\n",
    "plt.plot(epochs, loss, \"bo\", label=\"Training loss\")\n",
    "plt.plot(epochs, val_loss, \"b\", label=\"Validation loss\")\n",
    "plt.title(\"Training and validation loss\")\n",
    "plt.ylim([0, 20.0])\n",
    "plt.legend()\n",
    "plt.show() "
   ]
  },
  {
   "cell_type": "markdown",
   "metadata": {
    "id": "R370oPNS8e28"
   },
   "source": [
    "Load your best model"
   ]
  },
  {
   "cell_type": "code",
   "execution_count": null,
   "metadata": {
    "id": "hqfhhwe38e28"
   },
   "outputs": [],
   "source": [
    "# Write your code here \n",
    "test_model = keras.models.load_model(\"inception_v3_im_aug.keras\")"
   ]
  },
  {
   "cell_type": "markdown",
   "metadata": {
    "id": "Ab8rByI98e28"
   },
   "source": [
    "Evaluate it and store the loss and accuracy in `test_loss_4` and `test_acc_4`"
   ]
  },
  {
   "cell_type": "code",
   "execution_count": null,
   "metadata": {
    "colab": {
     "base_uri": "https://localhost:8080/"
    },
    "executionInfo": {
     "elapsed": 6645,
     "status": "ok",
     "timestamp": 1638783882778,
     "user": {
      "displayName": "marcus.ascard@hotmail.com",
      "photoUrl": "https://lh3.googleusercontent.com/a/default-user=s64",
      "userId": "03115809186989619152"
     },
     "user_tz": -60
    },
    "id": "9hIIWtP08e29",
    "outputId": "11dbe9be-23af-414e-d903-8a02141a3ec2"
   },
   "outputs": [
    {
     "name": "stdout",
     "output_type": "stream",
     "text": [
      "27/27 [==============================] - 6s 134ms/step - loss: 0.4242 - accuracy: 0.8542\n",
      "Test accuracy: 0.854\n",
      "Test loss: 0.424\n"
     ]
    }
   ],
   "source": [
    "# Write your code here\n",
    "test_loss_4, test_acc_4 = test_model.evaluate(test_dataset)\n",
    "print(f\"Test accuracy: {test_acc_4:.3f}\") \n",
    "print(f\"Test loss: {test_loss_4:.3f}\")  "
   ]
  },
  {
   "cell_type": "code",
   "execution_count": null,
   "metadata": {
    "colab": {
     "base_uri": "https://localhost:8080/"
    },
    "executionInfo": {
     "elapsed": 224,
     "status": "ok",
     "timestamp": 1638783893911,
     "user": {
      "displayName": "marcus.ascard@hotmail.com",
      "photoUrl": "https://lh3.googleusercontent.com/a/default-user=s64",
      "userId": "03115809186989619152"
     },
     "user_tz": -60
    },
    "id": "cePN6rJY8e29",
    "outputId": "8928b439-4789-4c31-b94d-00da75f9c30d"
   },
   "outputs": [
    {
     "data": {
      "text/plain": [
       "(0.4242437779903412, 0.8541666865348816)"
      ]
     },
     "execution_count": 60,
     "metadata": {},
     "output_type": "execute_result"
    }
   ],
   "source": [
    "test_loss_4, test_acc_4"
   ]
  },
  {
   "cell_type": "markdown",
   "metadata": {
    "id": "SWdrPFnZ8e29"
   },
   "source": [
    "### Predicting the test set"
   ]
  },
  {
   "cell_type": "markdown",
   "metadata": {
    "id": "16qNjfgd8e29"
   },
   "source": [
    "Apply now your network to the test set. You will collect `y_true` and `y_pred`"
   ]
  },
  {
   "cell_type": "code",
   "execution_count": null,
   "metadata": {
    "id": "7Yd5cjsT8e29"
   },
   "outputs": [],
   "source": [
    "# Write your code here \n",
    "y_pred = []\n",
    "Y_pred = []\n",
    "y_true = []  \n",
    "\n",
    "for image_batch, label_batch in test_dataset:  \n",
    "  for labels in label_batch:\n",
    "    y_true.append(int(labels)) \n",
    " \n",
    "  predictions = test_model.predict(image_batch)\n",
    "  for a_prediction in predictions: \n",
    "    y_pred.append(np.argmax(a_prediction))\n",
    "    Y_pred.append(a_prediction)  "
   ]
  },
  {
   "cell_type": "markdown",
   "metadata": {
    "id": "diRjC2nZ8e29"
   },
   "source": [
    "Report the accuracy as well as the classification report. Use sklearn functions"
   ]
  },
  {
   "cell_type": "code",
   "execution_count": null,
   "metadata": {
    "colab": {
     "base_uri": "https://localhost:8080/"
    },
    "executionInfo": {
     "elapsed": 190,
     "status": "ok",
     "timestamp": 1638783912829,
     "user": {
      "displayName": "marcus.ascard@hotmail.com",
      "photoUrl": "https://lh3.googleusercontent.com/a/default-user=s64",
      "userId": "03115809186989619152"
     },
     "user_tz": -60
    },
    "id": "nUPah8rw8e2-",
    "outputId": "453058a5-d608-4cda-8835-fd2daf0d5cae"
   },
   "outputs": [
    {
     "name": "stdout",
     "output_type": "stream",
     "text": [
      "Class indices/names: [(0, 'daisy'), (1, 'dandelion'), (2, 'rose'), (3, 'sunflower'), (4, 'tulip')]\n",
      "sklearn accuracy: 0.85417\n",
      "Classification report: \n",
      "              precision    recall  f1-score   support\n",
      "\n",
      "           0       0.93      0.85      0.89       174\n",
      "           1       0.88      0.91      0.89       204\n",
      "           2       0.79      0.86      0.83       155\n",
      "           3       0.85      0.79      0.82       141\n",
      "           4       0.82      0.84      0.83       190\n",
      "\n",
      "    accuracy                           0.85       864\n",
      "   macro avg       0.85      0.85      0.85       864\n",
      "weighted avg       0.86      0.85      0.85       864\n",
      "\n"
     ]
    }
   ],
   "source": [
    "# write your code \n",
    "print(\"Class indices/names: [(0, 'daisy'), (1, 'dandelion'), (2, 'rose'), (3, 'sunflower'), (4, 'tulip')]\")\n",
    "print(f\"sklearn accuracy: {accuracy_score(y_true, y_pred):.5f}\")  \n",
    "print(\"Classification report: \")\n",
    "print(classification_report(y_true, y_pred))"
   ]
  },
  {
   "cell_type": "markdown",
   "metadata": {
    "id": "qhpu8bKi8e2-"
   },
   "source": [
    "Print the confusion matrix"
   ]
  },
  {
   "cell_type": "code",
   "execution_count": null,
   "metadata": {
    "colab": {
     "base_uri": "https://localhost:8080/"
    },
    "executionInfo": {
     "elapsed": 191,
     "status": "ok",
     "timestamp": 1638783917323,
     "user": {
      "displayName": "marcus.ascard@hotmail.com",
      "photoUrl": "https://lh3.googleusercontent.com/a/default-user=s64",
      "userId": "03115809186989619152"
     },
     "user_tz": -60
    },
    "id": "317mExhE8e2-",
    "outputId": "501ce986-3115-4e33-e83a-d119814f5592"
   },
   "outputs": [
    {
     "name": "stdout",
     "output_type": "stream",
     "text": [
      "[[148  12   1   8   5]\n",
      " [  1 185   2   7   9]\n",
      " [  2   1 134   3  15]\n",
      " [  7  10   7 112   5]\n",
      " [  1   3  25   2 159]]\n"
     ]
    }
   ],
   "source": [
    "# write your code \n",
    "print(confusion_matrix(y_true, y_pred)) "
   ]
  },
  {
   "cell_type": "markdown",
   "metadata": {
    "id": "QK3ZPvy58e2-"
   },
   "source": [
    "## Passing the Assignment"
   ]
  },
  {
   "cell_type": "markdown",
   "metadata": {
    "id": "az7-1j3a8e2-"
   },
   "source": [
    "To pass the assignment, you need to reach an accuracy of 75 (even 80 ideally) with your best network."
   ]
  },
  {
   "cell_type": "code",
   "execution_count": null,
   "metadata": {
    "colab": {
     "base_uri": "https://localhost:8080/"
    },
    "executionInfo": {
     "elapsed": 191,
     "status": "ok",
     "timestamp": 1638783993565,
     "user": {
      "displayName": "marcus.ascard@hotmail.com",
      "photoUrl": "https://lh3.googleusercontent.com/a/default-user=s64",
      "userId": "03115809186989619152"
     },
     "user_tz": -60
    },
    "id": "Lamn_vLf8e2-",
    "outputId": "0d945004-4fb1-4bca-9baa-30f76ed7bdf9"
   },
   "outputs": [
    {
     "data": {
      "text/plain": [
       "((0.9372538924217224, 0.6909722089767456),\n",
       " (0.7251628041267395, 0.7488425970077515),\n",
       " (0.4539286196231842, 0.8472222089767456),\n",
       " (0.4242437779903412, 0.8541666865348816))"
      ]
     },
     "execution_count": 65,
     "metadata": {},
     "output_type": "execute_result"
    }
   ],
   "source": [
    "(test_loss_1, test_acc_1), (test_loss_2, test_acc_2), (test_loss_3, test_acc_3), (test_loss_4, test_acc_4)\n",
    "# Using ReLU as activation in the dense layer before the output:\n",
    "#((0.9507731795310974, 0.6400462985038757),\n",
    " #(0.7710380554199219, 0.7430555820465088),\n",
    " #(0.571815013885498, 0.8171296119689941),\n",
    " #(1.224104881286621, 0.8090277910232544))"
   ]
  },
  {
   "cell_type": "markdown",
   "metadata": {
    "id": "i1PiUKhs8e2_"
   },
   "source": [
    "## Report"
   ]
  },
  {
   "cell_type": "markdown",
   "metadata": {
    "id": "FlgUQ_Hu8e2_"
   },
   "source": [
    "You will write a short report of about two pages on your experiments:\n",
    "1. You will describe all the architectures you designed and the results you obtained. You will summarize the results in a table. Your description should be one-page long;\n",
    "2. You will run Chollet's notebook chapter09_part3 and read the article _Grad-CAM: Visual Explanations from Deep Networks via Gradient-based Localization_ by Selvaraju et al. From this, you will reformulate and comment the paragraph on _Visualizing heatmaps of class activation_ in the notebook. Your analysis should be about one-page long.\n",
    "3. You will run it on one of your flower images.\n",
    "\n",
    "You will submit your report as well as your notebook through Canvas."
   ]
  },
  {
   "cell_type": "code",
   "execution_count": null,
   "metadata": {
    "id": "e28X-Sw-8e2_"
   },
   "outputs": [],
   "source": []
  }
 ],
 "metadata": {
  "accelerator": "GPU",
  "colab": {
   "collapsed_sections": [],
   "name": "3.0-flowers_cnn_students.ipynb",
   "provenance": []
  },
  "kernelspec": {
   "display_name": "Python 3",
   "language": "python",
   "name": "python3"
  },
  "language_info": {
   "codemirror_mode": {
    "name": "ipython",
    "version": 3
   },
   "file_extension": ".py",
   "mimetype": "text/x-python",
   "name": "python",
   "nbconvert_exporter": "python",
   "pygments_lexer": "ipython3",
   "version": "3.8.12"
  }
 },
 "nbformat": 4,
 "nbformat_minor": 1
}
